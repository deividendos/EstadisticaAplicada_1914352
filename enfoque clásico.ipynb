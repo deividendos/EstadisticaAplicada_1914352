{
 "cells": [
  {
   "cell_type": "markdown",
   "metadata": {},
   "source": [
    "## Estadística Aplicada\n",
    "\n",
    "Nombre: David EduardoGómez Marín    \n",
    "\n",
    "Matrícula: 1914352\n",
    "\n",
    "Grupo: 041\n",
    "\n",
    "Fecha: 4 de octubre del 2023"
   ]
  },
  {
   "cell_type": "code",
   "execution_count": 85,
   "metadata": {},
   "outputs": [],
   "source": [
    "## librerias básicas\n",
    "import pandas as pd\n",
    "import numpy as np \n",
    "import matplotlib.pyplot as plt\n",
    "%matplotlib inline"
   ]
  },
  {
   "cell_type": "code",
   "execution_count": 86,
   "metadata": {},
   "outputs": [],
   "source": [
    "## librerias especializadas\n",
    "from statsmodels.tsa.holtwinters import ExponentialSmoothing\n",
    "#Se le da tamaño 12  los ejes\n",
    "plt.rcParams['xtick.labelsize'] = 12\n",
    "plt.rcParams['ytick.labelsize'] = 12\n",
    "plt.rcParams['axes.labelsize'] = 12\n"
   ]
  },
  {
   "cell_type": "code",
   "execution_count": 87,
   "metadata": {},
   "outputs": [],
   "source": [
    "## importar los datos\n",
    "pasajeros = pd.read_csv('https://raw.githubusercontent.com/jimmyzac/Estadistica-Aplicada-FCFM-UANL/main/bases_datos/airline_passengers.csv')"
   ]
  },
  {
   "cell_type": "code",
   "execution_count": 88,
   "metadata": {},
   "outputs": [
    {
     "data": {
      "text/html": [
       "<div>\n",
       "<style scoped>\n",
       "    .dataframe tbody tr th:only-of-type {\n",
       "        vertical-align: middle;\n",
       "    }\n",
       "\n",
       "    .dataframe tbody tr th {\n",
       "        vertical-align: top;\n",
       "    }\n",
       "\n",
       "    .dataframe thead th {\n",
       "        text-align: right;\n",
       "    }\n",
       "</style>\n",
       "<table border=\"1\" class=\"dataframe\">\n",
       "  <thead>\n",
       "    <tr style=\"text-align: right;\">\n",
       "      <th></th>\n",
       "      <th>Month</th>\n",
       "      <th>Thousands of Passengers</th>\n",
       "    </tr>\n",
       "  </thead>\n",
       "  <tbody>\n",
       "    <tr>\n",
       "      <th>0</th>\n",
       "      <td>1949-01</td>\n",
       "      <td>112</td>\n",
       "    </tr>\n",
       "    <tr>\n",
       "      <th>1</th>\n",
       "      <td>1949-02</td>\n",
       "      <td>118</td>\n",
       "    </tr>\n",
       "    <tr>\n",
       "      <th>2</th>\n",
       "      <td>1949-03</td>\n",
       "      <td>132</td>\n",
       "    </tr>\n",
       "    <tr>\n",
       "      <th>3</th>\n",
       "      <td>1949-04</td>\n",
       "      <td>129</td>\n",
       "    </tr>\n",
       "    <tr>\n",
       "      <th>4</th>\n",
       "      <td>1949-05</td>\n",
       "      <td>121</td>\n",
       "    </tr>\n",
       "  </tbody>\n",
       "</table>\n",
       "</div>"
      ],
      "text/plain": [
       "     Month  Thousands of Passengers\n",
       "0  1949-01                      112\n",
       "1  1949-02                      118\n",
       "2  1949-03                      132\n",
       "3  1949-04                      129\n",
       "4  1949-05                      121"
      ]
     },
     "execution_count": 88,
     "metadata": {},
     "output_type": "execute_result"
    }
   ],
   "source": [
    "pasajeros.head()"
   ]
  },
  {
   "cell_type": "code",
   "execution_count": 89,
   "metadata": {},
   "outputs": [
    {
     "data": {
      "text/plain": [
       "RangeIndex(start=0, stop=144, step=1)"
      ]
     },
     "execution_count": 89,
     "metadata": {},
     "output_type": "execute_result"
    }
   ],
   "source": [
    "pasajeros.index"
   ]
  },
  {
   "cell_type": "code",
   "execution_count": 90,
   "metadata": {},
   "outputs": [],
   "source": [
    "pasajeros = pasajeros.asfreq('MS')"
   ]
  },
  {
   "cell_type": "code",
   "execution_count": 91,
   "metadata": {},
   "outputs": [
    {
     "data": {
      "text/plain": [
       "DatetimeIndex(['1970-01-01'], dtype='datetime64[ns]', freq='MS')"
      ]
     },
     "execution_count": 91,
     "metadata": {},
     "output_type": "execute_result"
    }
   ],
   "source": [
    "pasajeros.index"
   ]
  },
  {
   "cell_type": "markdown",
   "metadata": {},
   "source": [
    "### Promedio móvil simple PMS\n",
    "El promedio móvil simple es una técnica de suavizado de series de tiempo que se utiliza para reducir el ruido y las fluctuaciones aleatorias en los datos, es decir, obtener la tenencia ciclo de los datos.\n",
    "\n",
    "La ecuación del promedio móvil simple:\n",
    "\n",
    "$$\n",
    "\\frac{1}{n} \\sum_{i=0}^{n-1} y_{t-i}\n",
    "$$\n",
    "\n",
    "Donde $y_t$ es el valor de la serie de tiempo en el tiempo $t$ y $n$ es el número de períodos que se utilizan para calcular el promedio móvil. "
   ]
  },
  {
   "cell_type": "code",
   "execution_count": 92,
   "metadata": {},
   "outputs": [],
   "source": [
    "## calcular promedio móvil simple\n",
    "pasajeros['PMS-12'] = pasajeros['Thousands of Passengers'].rolling(12).mean()"
   ]
  },
  {
   "cell_type": "code",
   "execution_count": 93,
   "metadata": {},
   "outputs": [
    {
     "name": "stderr",
     "output_type": "stream",
     "text": [
      "c:\\Users\\DELL\\AppData\\Local\\Programs\\Python\\Python311\\Lib\\site-packages\\pandas\\plotting\\_matplotlib\\core.py:1401: UserWarning: Attempting to set identical low and high xlims makes transformation singular; automatically expanding.\n",
      "  ax.set_xlim(left, right)\n",
      "c:\\Users\\DELL\\AppData\\Local\\Programs\\Python\\Python311\\Lib\\site-packages\\pandas\\plotting\\_matplotlib\\core.py:1401: UserWarning: Attempting to set identical low and high xlims makes transformation singular; automatically expanding.\n",
      "  ax.set_xlim(left, right)\n"
     ]
    },
    {
     "data": {
      "image/png": "[encoded data removed]",
      "text/plain": [
       "<Figure size 640x480 with 1 Axes>"
      ]
     },
     "metadata": {},
     "output_type": "display_data"
    }
   ],
   "source": [
    "pasajeros['Thousands of Passengers'].plot(alpha=0.3)\n",
    "pasajeros['PMS-12'].plot();"
   ]
  },
  {
   "cell_type": "markdown",
   "metadata": {},
   "source": [
    "### Promedio móvil centrado \n",
    "El promedio móvil centrado es una técnica de suavizado de series de tiempo que se utiliza para reducir el ruido y las fluctuaciones aleatorias en los datos, es decir, obtener la tenencia ciclo de los datos.\n",
    "\n",
    "Ecuación del promedio móvil centrado:\n",
    "\n",
    "$$\n",
    "\\frac{1}{n} \\sum_{i=-\\lfloor\\frac{n}{2}\\rfloor}^{\\lfloor\\frac{n}{2}\\rfloor} x_{t-i}\n",
    "$$\n",
    "\n",
    "Donde $y_t$ es el valor de la serie de tiempo en el tiempo $t$ y $n$ es el número de períodos que se utilizan para calcular el promedio móvil centrado."
   ]
  },
  {
   "cell_type": "code",
   "execution_count": 94,
   "metadata": {},
   "outputs": [],
   "source": [
    "## calcular promedio móvil centrado\n",
    "pasajeros['PMC-11'] = pasajeros['Thousands of Passengers'].rolling(11, center=True).mean()"
   ]
  },
  {
   "cell_type": "code",
   "execution_count": 95,
   "metadata": {},
   "outputs": [
    {
     "name": "stderr",
     "output_type": "stream",
     "text": [
      "c:\\Users\\DELL\\AppData\\Local\\Programs\\Python\\Python311\\Lib\\site-packages\\pandas\\plotting\\_matplotlib\\core.py:1401: UserWarning: Attempting to set identical low and high xlims makes transformation singular; automatically expanding.\n",
      "  ax.set_xlim(left, right)\n",
      "c:\\Users\\DELL\\AppData\\Local\\Programs\\Python\\Python311\\Lib\\site-packages\\pandas\\plotting\\_matplotlib\\core.py:1401: UserWarning: Attempting to set identical low and high xlims makes transformation singular; automatically expanding.\n",
      "  ax.set_xlim(left, right)\n"
     ]
    },
    {
     "data": {
      "text/plain": [
       "<pandas.plotting._core.PlotAccessor object at 0x0000026197D9F8D0>"
      ]
     },
     "execution_count": 95,
     "metadata": {},
     "output_type": "execute_result"
    },
    {
     "data": {
      "image/png": "[encoded data removed]",
      "text/plain": [
       "<Figure size 640x480 with 1 Axes>"
      ]
     },
     "metadata": {},
     "output_type": "display_data"
    }
   ],
   "source": [
    "pasajeros['Thousands of Passengers'].plot(alpha=0.3)\n",
    "pasajeros['PMS-12'].plot();\n",
    "pasajeros['PMC-11'].plot"
   ]
  },
  {
   "cell_type": "markdown",
   "metadata": {},
   "source": [
    "## MÉTODO HOLT-WINTERS\n",
    "El método Holt-Winters es un procedimiento de pronóstico de series de tiempo muy común capaz de incluir tanto tendencia como estacionalidad. El método Holt-Winters en sí es una combinación de otros tres componentes mucho más simples, todos los cuales son métodos de suavizado:\n",
    "\n",
    "* Suavizado exponencial simple (SES): el suavizado exponencial simple supone que la serie de tiempo no tiene cambios de nivel. Por lo tanto, no se puede utilizar con series que contengan tendencia, estacionalidad o ambas.\n",
    "* Suavizado exponencial (doble) de Holt (HES): El suavizado exponencial de Holt está un paso por encima del suavizado exponencial simple, ya que permite que los datos de series temporales tengan un componente de tendencia. El suavizamiento exponencial de Holt todavía es incapaz de hacer frente a los datos estacionales.\n",
    "* Suavizado exponencial (triple) Winters (WES): El suavizado exponencial de Winters es una extensión del suavizado exponencial de Holt que finalmente permite la inclusión de la estacionalidad. El suavizamiento exponencial de Winter es lo que se conoce como método de Holt-Winters.\n",
    "\n",
    "Por lo tanto, el método Holt-Winters a menudo se denomina suavizado exponencial triple, ya que es literalmente la combinación de 3 métodos de suavizado construidos uno encima del otro."
   ]
  },
  {
   "cell_type": "markdown",
   "metadata": {},
   "source": [
    "### Suavizado exponencial  simple\n",
    "El suavizado exponencial simple es una técnica de suavizado de series de tiempo que se utiliza para reducir el ruido y las fluctuaciones aleatorias en los datos. Se calcula tomando el promedio ponderado de un rango de valores de la serie, donde los valores más recientes tienen un peso mayor que los valores más antiguos. La ecuación del suavizado exponencial simple es:\n",
    "\n",
    "$$\n",
    "L_{t+1} = \\alpha y_t + (1-\\alpha) L_{t}\n",
    "$$\n",
    "Esta ecuación se conoce como ecuación de actualización de nivel , ya que actualiza el nivel del paso de tiempo actual en función de la estimación del nivel anterior.  Por lo tanto, la ecuación es recursiva, ya que cada estimación de nivel debe calcularse utilizando todas las estimaciones anteriores.\n",
    "Donde $L_{t+1}$ es el pronóstico para el período $t+1$, $y_t$ es el valor de la serie de tiempo en el período $t$, $L_t$ es el pronóstico para el período $t$, y  $\\alpha$ es el factor de suavizado, $0<\\alpha<1$ que es un número entre 0 y 1 que determina la importancia relativa de los valores más recientes en el cálculo del pronóstico. Un valor de $\\alpha$ más cercano a 1 da más peso a los valores más recientes, mientras que un valor de $\\alpha$ más cercano a 0 da más peso a los valores más antiguos.\n"
   ]
  },
  {
   "cell_type": "markdown",
   "metadata": {},
   "source": [
    "el problema es definir el $alpha$\n",
    "El comando `.ewm` es una función de pandas que se utiliza para calcular la media móvil exponencial ponderada. Esta función se utiliza para suavizar los datos y reducir el ruido en los datos. La media móvil exponencial ponderada se calcula utilizando una fórmula que asigna pesos a los datos en función de su antigüedad. Los datos más recientes tienen un peso mayor que los datos más antiguos. \n",
    "\n",
    "La sintaxis básica del comando `.ewm` es la siguiente:\n",
    "\n",
    "```python\n",
    "DataFrame.ewm(alpha=None, beta=None, com=None, span=None, min_periods=0, adjust=True, ignore_na=False, axis=0)\n",
    "```\n",
    "\n",
    "Donde:\n",
    "- `alpha`: Es el factor de suavizado. Si se especifica `alpha`, se ignoran los valores de `com` y `span`.\n",
    "- `com`: Es el período de tiempo de la media móvil exponencial ponderada. Si se especifica `com`, se ignoran los valores de `alpha` y `span`.\n",
    "- `span`: Es el número de períodos de tiempo que se utilizarán para calcular la media móvil exponencial ponderada. Si se especifica `span`, se ignoran los valores de `alpha` y `com`.\n",
    "- `min_periods`: Es el número mínimo de períodos de tiempo necesarios para calcular la media móvil exponencial ponderada.\n",
    "- `adjust`: Es un parámetro booleano que indica si se debe ajustar el peso de los datos en función de su antigüedad.\n",
    "- `ignore_na`: Es un parámetro booleano que indica si se deben ignorar los valores `NaN`.\n",
    "- `axis`: Es el eje a lo largo del cual se calculará la media móvil exponencial ponderada."
   ]
  },
  {
   "cell_type": "code",
   "execution_count": 96,
   "metadata": {},
   "outputs": [],
   "source": [
    "## calcular SES = Suavizad Exponencialmente\n",
    "pasajeros['SES'] = pasajeros['Thousands of Passengers'].ewm(span=12, adjust=False).mean()"
   ]
  },
  {
   "cell_type": "markdown",
   "metadata": {},
   "source": [
    "### Suavizado exponencial doble\n",
    "El suavizado exponencial doble o de Holt modela la tendencia y el nivel de la serie. El método de Holt a menudo se denomina suavizamiento doble exponencial:\n",
    "\n",
    "$$\n",
    "\\begin{aligned}\n",
    "L_t &= \\alpha y_t + (1 - \\alpha)(L_{t-1} + T_{t-1}) \\\\\n",
    "T_t &= \\beta(L_t - L_{t-1}) + (1 - \\beta)T_{t-1} \\\\\n",
    "F_{t+1} &= L_t + T_t\n",
    "\\end{aligned}\n",
    "$$\n",
    "\n",
    "Donde $y_t$ es el valor de la serie de tiempo en el tiempo $t$, $L_t$ es el nivel estimado de la serie de tiempo en el tiempo $t$, $T_t$ es la tendencia estimada de la serie de tiempo en el tiempo $t$, $F_{t+1}$ es el pronóstico para el período $t+1$, $\\alpha$ es el factor de suavizado para el nivel, $\\beta$ es el factor de suavizado para la tendencia, y $L_{t-1}$ y $T_{t-1}$ son los valores estimados del nivel y la tendencia en el período anterior, respectivamente. "
   ]
  },
  {
   "cell_type": "code",
   "execution_count": 97,
   "metadata": {},
   "outputs": [
    {
     "name": "stderr",
     "output_type": "stream",
     "text": [
      "c:\\Users\\DELL\\AppData\\Local\\Programs\\Python\\Python311\\Lib\\site-packages\\pandas\\plotting\\_matplotlib\\core.py:1401: UserWarning: Attempting to set identical low and high xlims makes transformation singular; automatically expanding.\n",
      "  ax.set_xlim(left, right)\n"
     ]
    },
    {
     "ename": "KeyError",
     "evalue": "'SED'",
     "output_type": "error",
     "traceback": [
      "\u001b[1;31m---------------------------------------------------------------------------\u001b[0m",
      "\u001b[1;31mKeyError\u001b[0m                                  Traceback (most recent call last)",
      "File \u001b[1;32mc:\\Users\\DELL\\AppData\\Local\\Programs\\Python\\Python311\\Lib\\site-packages\\pandas\\core\\indexes\\base.py:3653\u001b[0m, in \u001b[0;36mIndex.get_loc\u001b[1;34m(self, key)\u001b[0m\n\u001b[0;32m   3652\u001b[0m \u001b[39mtry\u001b[39;00m:\n\u001b[1;32m-> 3653\u001b[0m     \u001b[39mreturn\u001b[39;00m \u001b[39mself\u001b[39;49m\u001b[39m.\u001b[39;49m_engine\u001b[39m.\u001b[39;49mget_loc(casted_key)\n\u001b[0;32m   3654\u001b[0m \u001b[39mexcept\u001b[39;00m \u001b[39mKeyError\u001b[39;00m \u001b[39mas\u001b[39;00m err:\n",
      "File \u001b[1;32mc:\\Users\\DELL\\AppData\\Local\\Programs\\Python\\Python311\\Lib\\site-packages\\pandas\\_libs\\index.pyx:147\u001b[0m, in \u001b[0;36mpandas._libs.index.IndexEngine.get_loc\u001b[1;34m()\u001b[0m\n",
      "File \u001b[1;32mc:\\Users\\DELL\\AppData\\Local\\Programs\\Python\\Python311\\Lib\\site-packages\\pandas\\_libs\\index.pyx:176\u001b[0m, in \u001b[0;36mpandas._libs.index.IndexEngine.get_loc\u001b[1;34m()\u001b[0m\n",
      "File \u001b[1;32mpandas\\_libs\\hashtable_class_helper.pxi:7080\u001b[0m, in \u001b[0;36mpandas._libs.hashtable.PyObjectHashTable.get_item\u001b[1;34m()\u001b[0m\n",
      "File \u001b[1;32mpandas\\_libs\\hashtable_class_helper.pxi:7088\u001b[0m, in \u001b[0;36mpandas._libs.hashtable.PyObjectHashTable.get_item\u001b[1;34m()\u001b[0m\n",
      "\u001b[1;31mKeyError\u001b[0m: 'SED'",
      "\nThe above exception was the direct cause of the following exception:\n",
      "\u001b[1;31mKeyError\u001b[0m                                  Traceback (most recent call last)",
      "\u001b[1;32mc:\\Users\\DELL\\Documents\\DAvid1914352\\EstadísticaAplicada_1914352\\enfoque clásico.ipynb Cell 20\u001b[0m line \u001b[0;36m3\n\u001b[0;32m      <a href='vscode-notebook-cell:/c%3A/Users/DELL/Documents/DAvid1914352/Estad%C3%ADsticaAplicada_1914352/enfoque%20cl%C3%A1sico.ipynb#X16sZmlsZQ%3D%3D?line=0'>1</a>\u001b[0m \u001b[39m### código\u001b[39;00m\n\u001b[0;32m      <a href='vscode-notebook-cell:/c%3A/Users/DELL/Documents/DAvid1914352/Estad%C3%ADsticaAplicada_1914352/enfoque%20cl%C3%A1sico.ipynb#X16sZmlsZQ%3D%3D?line=1'>2</a>\u001b[0m pasajeros[\u001b[39m'\u001b[39m\u001b[39mThousands of Passengers\u001b[39m\u001b[39m'\u001b[39m]\u001b[39m.\u001b[39mplot(color\u001b[39m=\u001b[39m\u001b[39m'\u001b[39m\u001b[39mblue\u001b[39m\u001b[39m'\u001b[39m,label\u001b[39m=\u001b[39m\u001b[39m'\u001b[39m\u001b[39mSerie Original\u001b[39m\u001b[39m'\u001b[39m)\n\u001b[1;32m----> <a href='vscode-notebook-cell:/c%3A/Users/DELL/Documents/DAvid1914352/Estad%C3%ADsticaAplicada_1914352/enfoque%20cl%C3%A1sico.ipynb#X16sZmlsZQ%3D%3D?line=2'>3</a>\u001b[0m pasajeros[\u001b[39m'\u001b[39;49m\u001b[39mSED\u001b[39;49m\u001b[39m'\u001b[39;49m]\u001b[39m.\u001b[39mplot(color\u001b[39m=\u001b[39m\u001b[39m'\u001b[39m\u001b[39mred\u001b[39m\u001b[39m'\u001b[39m)\n",
      "File \u001b[1;32mc:\\Users\\DELL\\AppData\\Local\\Programs\\Python\\Python311\\Lib\\site-packages\\pandas\\core\\frame.py:3761\u001b[0m, in \u001b[0;36mDataFrame.__getitem__\u001b[1;34m(self, key)\u001b[0m\n\u001b[0;32m   3759\u001b[0m \u001b[39mif\u001b[39;00m \u001b[39mself\u001b[39m\u001b[39m.\u001b[39mcolumns\u001b[39m.\u001b[39mnlevels \u001b[39m>\u001b[39m \u001b[39m1\u001b[39m:\n\u001b[0;32m   3760\u001b[0m     \u001b[39mreturn\u001b[39;00m \u001b[39mself\u001b[39m\u001b[39m.\u001b[39m_getitem_multilevel(key)\n\u001b[1;32m-> 3761\u001b[0m indexer \u001b[39m=\u001b[39m \u001b[39mself\u001b[39;49m\u001b[39m.\u001b[39;49mcolumns\u001b[39m.\u001b[39;49mget_loc(key)\n\u001b[0;32m   3762\u001b[0m \u001b[39mif\u001b[39;00m is_integer(indexer):\n\u001b[0;32m   3763\u001b[0m     indexer \u001b[39m=\u001b[39m [indexer]\n",
      "File \u001b[1;32mc:\\Users\\DELL\\AppData\\Local\\Programs\\Python\\Python311\\Lib\\site-packages\\pandas\\core\\indexes\\base.py:3655\u001b[0m, in \u001b[0;36mIndex.get_loc\u001b[1;34m(self, key)\u001b[0m\n\u001b[0;32m   3653\u001b[0m     \u001b[39mreturn\u001b[39;00m \u001b[39mself\u001b[39m\u001b[39m.\u001b[39m_engine\u001b[39m.\u001b[39mget_loc(casted_key)\n\u001b[0;32m   3654\u001b[0m \u001b[39mexcept\u001b[39;00m \u001b[39mKeyError\u001b[39;00m \u001b[39mas\u001b[39;00m err:\n\u001b[1;32m-> 3655\u001b[0m     \u001b[39mraise\u001b[39;00m \u001b[39mKeyError\u001b[39;00m(key) \u001b[39mfrom\u001b[39;00m \u001b[39merr\u001b[39;00m\n\u001b[0;32m   3656\u001b[0m \u001b[39mexcept\u001b[39;00m \u001b[39mTypeError\u001b[39;00m:\n\u001b[0;32m   3657\u001b[0m     \u001b[39m# If we have a listlike key, _check_indexing_error will raise\u001b[39;00m\n\u001b[0;32m   3658\u001b[0m     \u001b[39m#  InvalidIndexError. Otherwise we fall through and re-raise\u001b[39;00m\n\u001b[0;32m   3659\u001b[0m     \u001b[39m#  the TypeError.\u001b[39;00m\n\u001b[0;32m   3660\u001b[0m     \u001b[39mself\u001b[39m\u001b[39m.\u001b[39m_check_indexing_error(key)\n",
      "\u001b[1;31mKeyError\u001b[0m: 'SED'"
     ]
    },
    {
     "data": {
      "image/png": "[encoded data removed]",
      "text/plain": [
       "<Figure size 640x480 with 1 Axes>"
      ]
     },
     "metadata": {},
     "output_type": "display_data"
    }
   ],
   "source": [
    "### código\n",
    "pasajeros['Thousands of Passengers'].plot(color='blue',label='Serie Original')\n",
    "pasajeros['SED'].plot(color='red')"
   ]
  },
  {
   "cell_type": "markdown",
   "metadata": {},
   "source": [
    "### Suavizamiento exponencial triple\n",
    "El suavizado exponencial triple o de Holt-Winters modela la tendencia, la estacionalidad y el nivel de la serie:\n",
    "$$\n",
    "\\begin{aligned}\n",
    "L_t &= \\alpha (y_t-S_{t-m}) + (1 - \\alpha)(L_{t-1} + T_{t-1}) \\\\\n",
    "T_t &= \\beta(L_t - L_{t-1}) + (1 - \\beta)T_{t-1} \n",
    "\\\\\n",
    "S_t &= \\gamma (y_t-L_t) +(1-\\gamma)S_{t-m}\n",
    "\\\\\n",
    "F_{t+1} &= L_t + T_t + S_{t+1-m}\n",
    "\\end{aligned}\n",
    "$$\n",
    "\n",
    "Una vez más, se introduce otra constante de suavizado: $\\gamma$. La constante de suavizado también tiene el dominio $0≤\\gamma≤1$, y $m$ es la longitud del ciclo estacional. Esta ecuación de actualización específica es para una serie temporal con nivel aditivo. \n",
    "\n",
    "La ecuación de actualización de nivel original no funciona correctamente con datos estacionales. Por lo tanto, dado que ahora se supone que la serie temporal tiene un componente estacional, la ecuación de nivel debe primero “desestacionalizar” los datos para lograr una estimación de nivel adecuada.\n",
    "\n"
   ]
  },
  {
   "cell_type": "code",
   "execution_count": null,
   "metadata": {},
   "outputs": [
    {
     "ename": "ValueError",
     "evalue": "endog must be strictly positive when usingmultiplicative trend or seasonal components.",
     "output_type": "error",
     "traceback": [
      "\u001b[1;31m---------------------------------------------------------------------------\u001b[0m",
      "\u001b[1;31mValueError\u001b[0m                                Traceback (most recent call last)",
      "\u001b[1;32mc:\\Users\\DELL\\Documents\\DAvid1914352\\EstadísticaAplicada_1914352\\enfoque clásico.ipynb Cell 22\u001b[0m line \u001b[0;36m1\n\u001b[1;32m----> <a href='vscode-notebook-cell:/c%3A/Users/DELL/Documents/DAvid1914352/Estad%C3%ADsticaAplicada_1914352/enfoque%20cl%C3%A1sico.ipynb#X32sZmlsZQ%3D%3D?line=0'>1</a>\u001b[0m pasajeros[\u001b[39m'\u001b[39m\u001b[39mHolt-Winters\u001b[39m\u001b[39m'\u001b[39m] \u001b[39m=\u001b[39m ExponentialSmoothing(pasajeros[\u001b[39m'\u001b[39;49m\u001b[39mThousands of Passengers\u001b[39;49m\u001b[39m'\u001b[39;49m], trend\u001b[39m=\u001b[39;49m\u001b[39m'\u001b[39;49m\u001b[39mmul\u001b[39;49m\u001b[39m'\u001b[39;49m,seasonal_periods\u001b[39m=\u001b[39;49m\u001b[39m12\u001b[39;49m)\u001b[39m.\u001b[39mfit()\u001b[39m.\u001b[39mfittedvalues()\n",
      "File \u001b[1;32mc:\\Users\\DELL\\AppData\\Local\\Programs\\Python\\Python311\\Lib\\site-packages\\pandas\\util\\_decorators.py:210\u001b[0m, in \u001b[0;36mdeprecate_kwarg.<locals>._deprecate_kwarg.<locals>.wrapper\u001b[1;34m(*args, **kwargs)\u001b[0m\n\u001b[0;32m    208\u001b[0m         \u001b[39mraise\u001b[39;00m \u001b[39mTypeError\u001b[39;00m(msg)\n\u001b[0;32m    209\u001b[0m     kwargs[new_arg_name] \u001b[39m=\u001b[39m new_arg_value\n\u001b[1;32m--> 210\u001b[0m \u001b[39mreturn\u001b[39;00m func(\u001b[39m*\u001b[39;49margs, \u001b[39m*\u001b[39;49m\u001b[39m*\u001b[39;49mkwargs)\n",
      "File \u001b[1;32mc:\\Users\\DELL\\AppData\\Local\\Programs\\Python\\Python311\\Lib\\site-packages\\statsmodels\\tsa\\holtwinters\\model.py:247\u001b[0m, in \u001b[0;36mExponentialSmoothing.__init__\u001b[1;34m(self, endog, trend, damped_trend, seasonal, seasonal_periods, initialization_method, initial_level, initial_trend, initial_seasonal, use_boxcox, bounds, dates, freq, missing)\u001b[0m\n\u001b[0;32m    243\u001b[0m \u001b[39mself\u001b[39m\u001b[39m.\u001b[39mhas_seasonal \u001b[39m=\u001b[39m seasonal \u001b[39min\u001b[39;00m [\u001b[39m\"\u001b[39m\u001b[39mmul\u001b[39m\u001b[39m\"\u001b[39m, \u001b[39m\"\u001b[39m\u001b[39madd\u001b[39m\u001b[39m\"\u001b[39m]\n\u001b[0;32m    244\u001b[0m \u001b[39mif\u001b[39;00m (\u001b[39mself\u001b[39m\u001b[39m.\u001b[39mtrend \u001b[39m==\u001b[39m \u001b[39m\"\u001b[39m\u001b[39mmul\u001b[39m\u001b[39m\"\u001b[39m \u001b[39mor\u001b[39;00m \u001b[39mself\u001b[39m\u001b[39m.\u001b[39mseasonal \u001b[39m==\u001b[39m \u001b[39m\"\u001b[39m\u001b[39mmul\u001b[39m\u001b[39m\"\u001b[39m) \u001b[39mand\u001b[39;00m \u001b[39mnot\u001b[39;00m np\u001b[39m.\u001b[39mall(\n\u001b[0;32m    245\u001b[0m     \u001b[39mself\u001b[39m\u001b[39m.\u001b[39m_data \u001b[39m>\u001b[39m \u001b[39m0.0\u001b[39m\n\u001b[0;32m    246\u001b[0m ):\n\u001b[1;32m--> 247\u001b[0m     \u001b[39mraise\u001b[39;00m \u001b[39mValueError\u001b[39;00m(\n\u001b[0;32m    248\u001b[0m         \u001b[39m\"\u001b[39m\u001b[39mendog must be strictly positive when using\u001b[39m\u001b[39m\"\u001b[39m\n\u001b[0;32m    249\u001b[0m         \u001b[39m\"\u001b[39m\u001b[39mmultiplicative trend or seasonal components.\u001b[39m\u001b[39m\"\u001b[39m\n\u001b[0;32m    250\u001b[0m     )\n\u001b[0;32m    251\u001b[0m \u001b[39mif\u001b[39;00m \u001b[39mself\u001b[39m\u001b[39m.\u001b[39mdamped_trend \u001b[39mand\u001b[39;00m \u001b[39mnot\u001b[39;00m \u001b[39mself\u001b[39m\u001b[39m.\u001b[39mhas_trend:\n\u001b[0;32m    252\u001b[0m     \u001b[39mraise\u001b[39;00m \u001b[39mValueError\u001b[39;00m(\u001b[39m\"\u001b[39m\u001b[39mCan only dampen the trend component\u001b[39m\u001b[39m\"\u001b[39m)\n",
      "\u001b[1;31mValueError\u001b[0m: endog must be strictly positive when usingmultiplicative trend or seasonal components."
     ]
    }
   ],
   "source": [
    "pasajeros['Holt-Winters'] = ExponentialSmoothing(pasajeros['Thousands of Passengers'], trend='mul',seasonal_periods=12).fit().fittedvalues()"
   ]
  },
  {
   "cell_type": "code",
   "execution_count": 98,
   "metadata": {},
   "outputs": [
    {
     "data": {
      "text/html": [
       "<div>\n",
       "<style scoped>\n",
       "    .dataframe tbody tr th:only-of-type {\n",
       "        vertical-align: middle;\n",
       "    }\n",
       "\n",
       "    .dataframe tbody tr th {\n",
       "        vertical-align: top;\n",
       "    }\n",
       "\n",
       "    .dataframe thead th {\n",
       "        text-align: right;\n",
       "    }\n",
       "</style>\n",
       "<table border=\"1\" class=\"dataframe\">\n",
       "  <thead>\n",
       "    <tr style=\"text-align: right;\">\n",
       "      <th></th>\n",
       "      <th>Month</th>\n",
       "      <th>Thousands of Passengers</th>\n",
       "      <th>PMS-12</th>\n",
       "      <th>PMC-11</th>\n",
       "      <th>SES</th>\n",
       "    </tr>\n",
       "  </thead>\n",
       "  <tbody>\n",
       "    <tr>\n",
       "      <th>1970-01-01</th>\n",
       "      <td>NaN</td>\n",
       "      <td>NaN</td>\n",
       "      <td>NaN</td>\n",
       "      <td>NaN</td>\n",
       "      <td>NaN</td>\n",
       "    </tr>\n",
       "  </tbody>\n",
       "</table>\n",
       "</div>"
      ],
      "text/plain": [
       "           Month  Thousands of Passengers  PMS-12  PMC-11  SES\n",
       "1970-01-01   NaN                      NaN     NaN     NaN  NaN"
      ]
     },
     "execution_count": 98,
     "metadata": {},
     "output_type": "execute_result"
    }
   ],
   "source": [
    "pasajeros.tail()"
   ]
  },
  {
   "cell_type": "code",
   "execution_count": null,
   "metadata": {},
   "outputs": [],
   "source": [
    "#Pronosticar\n",
    "holtwinters = "
   ]
  }
 ],
 "metadata": {
  "kernelspec": {
   "display_name": "Python 3",
   "language": "python",
   "name": "python3"
  },
  "language_info": {
   "codemirror_mode": {
    "name": "ipython",
    "version": 3
   },
   "file_extension": ".py",
   "mimetype": "text/x-python",
   "name": "python",
   "nbconvert_exporter": "python",
   "pygments_lexer": "ipython3",
   "version": "3.11.4"
  },
  "orig_nbformat": 4
 },
 "nbformat": 4,
 "nbformat_minor": 2
}
