{
 "cells": [
  {
   "cell_type": "markdown",
   "metadata": {},
   "source": [
    "# Estadística Aplicada\n",
    "\n",
    "# Parcial 1\n",
    "\n",
    "David Eduardo Gómez Marín   -   1914352\n",
    "\n",
    "Grupo 41"
   ]
  },
  {
   "cell_type": "code",
   "execution_count": 42,
   "metadata": {},
   "outputs": [],
   "source": [
    "import pandas as pd\n",
    "import numpy as np\n",
    "import matplotlib.pyplot as plt\n",
    "%matplotlib inline"
   ]
  },
  {
   "cell_type": "markdown",
   "metadata": {},
   "source": [
    "# 1.-Carga la base de datos de películas raw.githubusercontent.com/jimmyzac/Estadistica-Aplicada-FCFM-UANL/main/bases_datos/peliculas.csvque    tiene    información    sobre    películas, incluyendo el título(title), género (category ) y duración en minutos(length)."
   ]
  },
  {
   "cell_type": "code",
   "execution_count": 43,
   "metadata": {},
   "outputs": [],
   "source": [
    "df = pd.read_csv('https://raw.githubusercontent.com/jimmyzac/Estadistica-Aplicada-FCFM-UANL/main/bases_datos/peliculas.csv')"
   ]
  },
  {
   "cell_type": "code",
   "execution_count": 44,
   "metadata": {},
   "outputs": [
    {
     "data": {
      "text/html": [
       "<div>\n",
       "<style scoped>\n",
       "    .dataframe tbody tr th:only-of-type {\n",
       "        vertical-align: middle;\n",
       "    }\n",
       "\n",
       "    .dataframe tbody tr th {\n",
       "        vertical-align: top;\n",
       "    }\n",
       "\n",
       "    .dataframe thead th {\n",
       "        text-align: right;\n",
       "    }\n",
       "</style>\n",
       "<table border=\"1\" class=\"dataframe\">\n",
       "  <thead>\n",
       "    <tr style=\"text-align: right;\">\n",
       "      <th></th>\n",
       "      <th>title</th>\n",
       "      <th>description</th>\n",
       "      <th>release_year</th>\n",
       "      <th>rental_rate</th>\n",
       "      <th>length</th>\n",
       "      <th>rating</th>\n",
       "      <th>special_features</th>\n",
       "      <th>category</th>\n",
       "    </tr>\n",
       "  </thead>\n",
       "  <tbody>\n",
       "    <tr>\n",
       "      <th>0</th>\n",
       "      <td>Academy Dinosaur</td>\n",
       "      <td>A Epic Drama of a Feminist And a Mad Scientist...</td>\n",
       "      <td>2006</td>\n",
       "      <td>0.99</td>\n",
       "      <td>86</td>\n",
       "      <td>PG</td>\n",
       "      <td>Deleted Scenes,Behind the Scenes</td>\n",
       "      <td>Documentary</td>\n",
       "    </tr>\n",
       "    <tr>\n",
       "      <th>1</th>\n",
       "      <td>Ace Goldfinger</td>\n",
       "      <td>A Astounding Epistle of a Database Administrat...</td>\n",
       "      <td>2006</td>\n",
       "      <td>4.99</td>\n",
       "      <td>48</td>\n",
       "      <td>G</td>\n",
       "      <td>Trailers,Deleted Scenes</td>\n",
       "      <td>Horror</td>\n",
       "    </tr>\n",
       "    <tr>\n",
       "      <th>2</th>\n",
       "      <td>Adaptation Holes</td>\n",
       "      <td>A Astounding Reflection of a Lumberjack And a ...</td>\n",
       "      <td>2006</td>\n",
       "      <td>2.99</td>\n",
       "      <td>50</td>\n",
       "      <td>NC-17</td>\n",
       "      <td>Trailers,Deleted Scenes</td>\n",
       "      <td>Documentary</td>\n",
       "    </tr>\n",
       "    <tr>\n",
       "      <th>3</th>\n",
       "      <td>Affair Prejudice</td>\n",
       "      <td>A Fanciful Documentary of a Frisbee And a Lumb...</td>\n",
       "      <td>2006</td>\n",
       "      <td>2.99</td>\n",
       "      <td>117</td>\n",
       "      <td>G</td>\n",
       "      <td>Commentaries,Behind the Scenes</td>\n",
       "      <td>Horror</td>\n",
       "    </tr>\n",
       "    <tr>\n",
       "      <th>4</th>\n",
       "      <td>African Egg</td>\n",
       "      <td>A Fast-Paced Documentary of a Pastry Chef And ...</td>\n",
       "      <td>2006</td>\n",
       "      <td>2.99</td>\n",
       "      <td>130</td>\n",
       "      <td>G</td>\n",
       "      <td>Deleted Scenes</td>\n",
       "      <td>Family</td>\n",
       "    </tr>\n",
       "  </tbody>\n",
       "</table>\n",
       "</div>"
      ],
      "text/plain": [
       "              title                                        description  \\\n",
       "0  Academy Dinosaur  A Epic Drama of a Feminist And a Mad Scientist...   \n",
       "1    Ace Goldfinger  A Astounding Epistle of a Database Administrat...   \n",
       "2  Adaptation Holes  A Astounding Reflection of a Lumberjack And a ...   \n",
       "3  Affair Prejudice  A Fanciful Documentary of a Frisbee And a Lumb...   \n",
       "4       African Egg  A Fast-Paced Documentary of a Pastry Chef And ...   \n",
       "\n",
       "   release_year  rental_rate  length rating                  special_features  \\\n",
       "0          2006         0.99      86     PG  Deleted Scenes,Behind the Scenes   \n",
       "1          2006         4.99      48      G           Trailers,Deleted Scenes   \n",
       "2          2006         2.99      50  NC-17           Trailers,Deleted Scenes   \n",
       "3          2006         2.99     117      G    Commentaries,Behind the Scenes   \n",
       "4          2006         2.99     130      G                    Deleted Scenes   \n",
       "\n",
       "      category  \n",
       "0  Documentary  \n",
       "1       Horror  \n",
       "2  Documentary  \n",
       "3       Horror  \n",
       "4       Family  "
      ]
     },
     "execution_count": 44,
     "metadata": {},
     "output_type": "execute_result"
    }
   ],
   "source": [
    "df.head()"
   ]
  },
  {
   "cell_type": "markdown",
   "metadata": {},
   "source": [
    "# a) Cuantas películas hay, cuantos géneros, y cuanto duran en promedio las películas\n"
   ]
  },
  {
   "cell_type": "code",
   "execution_count": 45,
   "metadata": {},
   "outputs": [
    {
     "name": "stdout",
     "output_type": "stream",
     "text": [
      "Hay un total de 1000 películas diferentes\n"
     ]
    }
   ],
   "source": [
    "print('Hay un total de', df['title'].count(), 'películas diferentes')"
   ]
  },
  {
   "cell_type": "code",
   "execution_count": 46,
   "metadata": {},
   "outputs": [
    {
     "name": "stdout",
     "output_type": "stream",
     "text": [
      "Hay un total de 16 géneros de películas diferentes.\n"
     ]
    }
   ],
   "source": [
    "print('Hay un total de', df.groupby('category')['category'].count().count(), 'géneros de películas diferentes.')"
   ]
  },
  {
   "cell_type": "code",
   "execution_count": 47,
   "metadata": {},
   "outputs": [
    {
     "name": "stdout",
     "output_type": "stream",
     "text": [
      "El promedio de la duración de las películas es de 115.272 minutos\n"
     ]
    }
   ],
   "source": [
    "print('El promedio de la duración de las películas es de',df['length'].mean(),'minutos')"
   ]
  },
  {
   "cell_type": "markdown",
   "metadata": {},
   "source": [
    "# b)crea  un  dataframe  llamado películas_dormir  con  las  películas  que  tienen  una duración superior a 2 horas y sean documentales"
   ]
  },
  {
   "cell_type": "code",
   "execution_count": 48,
   "metadata": {},
   "outputs": [],
   "source": [
    "peliculas_dormir = df[df['length']>120].query('category == \"Documentary\"')\n"
   ]
  },
  {
   "cell_type": "code",
   "execution_count": 49,
   "metadata": {},
   "outputs": [
    {
     "data": {
      "text/html": [
       "<div>\n",
       "<style scoped>\n",
       "    .dataframe tbody tr th:only-of-type {\n",
       "        vertical-align: middle;\n",
       "    }\n",
       "\n",
       "    .dataframe tbody tr th {\n",
       "        vertical-align: top;\n",
       "    }\n",
       "\n",
       "    .dataframe thead th {\n",
       "        text-align: right;\n",
       "    }\n",
       "</style>\n",
       "<table border=\"1\" class=\"dataframe\">\n",
       "  <thead>\n",
       "    <tr style=\"text-align: right;\">\n",
       "      <th></th>\n",
       "      <th>title</th>\n",
       "      <th>description</th>\n",
       "      <th>release_year</th>\n",
       "      <th>rental_rate</th>\n",
       "      <th>length</th>\n",
       "      <th>rating</th>\n",
       "      <th>special_features</th>\n",
       "      <th>category</th>\n",
       "    </tr>\n",
       "  </thead>\n",
       "  <tbody>\n",
       "    <tr>\n",
       "      <th>39</th>\n",
       "      <td>Army Flintstones</td>\n",
       "      <td>A Boring Saga of a Database Administrator And ...</td>\n",
       "      <td>2006</td>\n",
       "      <td>0.99</td>\n",
       "      <td>148</td>\n",
       "      <td>R</td>\n",
       "      <td>Trailers,Commentaries</td>\n",
       "      <td>Documentary</td>\n",
       "    </tr>\n",
       "    <tr>\n",
       "      <th>57</th>\n",
       "      <td>Beach Heartbreakers</td>\n",
       "      <td>A Fateful Display of a Womanizer And a Mad Sci...</td>\n",
       "      <td>2006</td>\n",
       "      <td>2.99</td>\n",
       "      <td>122</td>\n",
       "      <td>G</td>\n",
       "      <td>Deleted Scenes,Behind the Scenes</td>\n",
       "      <td>Documentary</td>\n",
       "    </tr>\n",
       "    <tr>\n",
       "      <th>128</th>\n",
       "      <td>Cause Date</td>\n",
       "      <td>A Taut Tale of a Explorer And a Pastry Chef wh...</td>\n",
       "      <td>2006</td>\n",
       "      <td>2.99</td>\n",
       "      <td>179</td>\n",
       "      <td>R</td>\n",
       "      <td>Commentaries,Deleted Scenes,Behind the Scenes</td>\n",
       "      <td>Documentary</td>\n",
       "    </tr>\n",
       "    <tr>\n",
       "      <th>141</th>\n",
       "      <td>Chicken Hellfighters</td>\n",
       "      <td>A Emotional Drama of a Dog And a Explorer who ...</td>\n",
       "      <td>2006</td>\n",
       "      <td>0.99</td>\n",
       "      <td>122</td>\n",
       "      <td>PG</td>\n",
       "      <td>Trailers,Commentaries,Deleted Scenes,Behind th...</td>\n",
       "      <td>Documentary</td>\n",
       "    </tr>\n",
       "    <tr>\n",
       "      <th>155</th>\n",
       "      <td>Clerks Angels</td>\n",
       "      <td>A Thrilling Display of a Sumo Wrestler And a G...</td>\n",
       "      <td>2006</td>\n",
       "      <td>4.99</td>\n",
       "      <td>164</td>\n",
       "      <td>G</td>\n",
       "      <td>Commentaries</td>\n",
       "      <td>Documentary</td>\n",
       "    </tr>\n",
       "    <tr>\n",
       "      <th>205</th>\n",
       "      <td>Dancing Fever</td>\n",
       "      <td>A Stunning Story of a Explorer And a Forensic ...</td>\n",
       "      <td>2006</td>\n",
       "      <td>0.99</td>\n",
       "      <td>144</td>\n",
       "      <td>G</td>\n",
       "      <td>Commentaries,Behind the Scenes</td>\n",
       "      <td>Documentary</td>\n",
       "    </tr>\n",
       "    <tr>\n",
       "      <th>247</th>\n",
       "      <td>Dozen Lion</td>\n",
       "      <td>A Taut Drama of a Cat And a Girl who must Defe...</td>\n",
       "      <td>2006</td>\n",
       "      <td>4.99</td>\n",
       "      <td>177</td>\n",
       "      <td>NC-17</td>\n",
       "      <td>Commentaries,Deleted Scenes,Behind the Scenes</td>\n",
       "      <td>Documentary</td>\n",
       "    </tr>\n",
       "    <tr>\n",
       "      <th>260</th>\n",
       "      <td>Duffel Apocalypse</td>\n",
       "      <td>A Emotional Display of a Boat And a Explorer w...</td>\n",
       "      <td>2006</td>\n",
       "      <td>0.99</td>\n",
       "      <td>171</td>\n",
       "      <td>G</td>\n",
       "      <td>Commentaries</td>\n",
       "      <td>Documentary</td>\n",
       "    </tr>\n",
       "    <tr>\n",
       "      <th>440</th>\n",
       "      <td>Hunter Alter</td>\n",
       "      <td>A Emotional Drama of a Mad Cow And a Boat who ...</td>\n",
       "      <td>2006</td>\n",
       "      <td>2.99</td>\n",
       "      <td>125</td>\n",
       "      <td>PG-13</td>\n",
       "      <td>Commentaries,Deleted Scenes,Behind the Scenes</td>\n",
       "      <td>Documentary</td>\n",
       "    </tr>\n",
       "    <tr>\n",
       "      <th>456</th>\n",
       "      <td>Independence Hotel</td>\n",
       "      <td>A Thrilling Tale of a Technical Writer And a B...</td>\n",
       "      <td>2006</td>\n",
       "      <td>0.99</td>\n",
       "      <td>157</td>\n",
       "      <td>NC-17</td>\n",
       "      <td>Trailers,Behind the Scenes</td>\n",
       "      <td>Documentary</td>\n",
       "    </tr>\n",
       "    <tr>\n",
       "      <th>543</th>\n",
       "      <td>Madison Trap</td>\n",
       "      <td>A Awe-Inspiring Reflection of a Monkey And a D...</td>\n",
       "      <td>2006</td>\n",
       "      <td>2.99</td>\n",
       "      <td>147</td>\n",
       "      <td>R</td>\n",
       "      <td>Commentaries,Deleted Scenes,Behind the Scenes</td>\n",
       "      <td>Documentary</td>\n",
       "    </tr>\n",
       "    <tr>\n",
       "      <th>551</th>\n",
       "      <td>Majestic Floats</td>\n",
       "      <td>A Thrilling Character Study of a Moose And a S...</td>\n",
       "      <td>2006</td>\n",
       "      <td>0.99</td>\n",
       "      <td>130</td>\n",
       "      <td>PG</td>\n",
       "      <td>Trailers</td>\n",
       "      <td>Documentary</td>\n",
       "    </tr>\n",
       "    <tr>\n",
       "      <th>570</th>\n",
       "      <td>Metal Armageddon</td>\n",
       "      <td>A Thrilling Display of a Lumberjack And a Croc...</td>\n",
       "      <td>2006</td>\n",
       "      <td>2.99</td>\n",
       "      <td>161</td>\n",
       "      <td>PG-13</td>\n",
       "      <td>Trailers,Commentaries,Deleted Scenes</td>\n",
       "      <td>Documentary</td>\n",
       "    </tr>\n",
       "    <tr>\n",
       "      <th>575</th>\n",
       "      <td>Mighty Luck</td>\n",
       "      <td>A Astounding Epistle of a Mad Scientist And a ...</td>\n",
       "      <td>2006</td>\n",
       "      <td>2.99</td>\n",
       "      <td>122</td>\n",
       "      <td>PG</td>\n",
       "      <td>Behind the Scenes</td>\n",
       "      <td>Documentary</td>\n",
       "    </tr>\n",
       "    <tr>\n",
       "      <th>621</th>\n",
       "      <td>Newsies Story</td>\n",
       "      <td>A Action-Packed Character Study of a Dog And a...</td>\n",
       "      <td>2006</td>\n",
       "      <td>0.99</td>\n",
       "      <td>159</td>\n",
       "      <td>G</td>\n",
       "      <td>Trailers,Deleted Scenes</td>\n",
       "      <td>Documentary</td>\n",
       "    </tr>\n",
       "    <tr>\n",
       "      <th>628</th>\n",
       "      <td>Notorious Reunion</td>\n",
       "      <td>A Amazing Epistle of a Woman And a Squirrel wh...</td>\n",
       "      <td>2006</td>\n",
       "      <td>0.99</td>\n",
       "      <td>128</td>\n",
       "      <td>NC-17</td>\n",
       "      <td>Trailers,Commentaries,Deleted Scenes</td>\n",
       "      <td>Documentary</td>\n",
       "    </tr>\n",
       "    <tr>\n",
       "      <th>649</th>\n",
       "      <td>Pacific Amistad</td>\n",
       "      <td>A Thrilling Yarn of a Dog And a Moose who must...</td>\n",
       "      <td>2006</td>\n",
       "      <td>0.99</td>\n",
       "      <td>144</td>\n",
       "      <td>G</td>\n",
       "      <td>Trailers,Commentaries,Deleted Scenes,Behind th...</td>\n",
       "      <td>Documentary</td>\n",
       "    </tr>\n",
       "    <tr>\n",
       "      <th>686</th>\n",
       "      <td>Pocus Pulp</td>\n",
       "      <td>A Intrepid Yarn of a Frisbee And a Dog who mus...</td>\n",
       "      <td>2006</td>\n",
       "      <td>0.99</td>\n",
       "      <td>138</td>\n",
       "      <td>NC-17</td>\n",
       "      <td>Commentaries,Deleted Scenes,Behind the Scenes</td>\n",
       "      <td>Documentary</td>\n",
       "    </tr>\n",
       "    <tr>\n",
       "      <th>733</th>\n",
       "      <td>Road Roxanne</td>\n",
       "      <td>A Boring Character Study of a Waitress And a A...</td>\n",
       "      <td>2006</td>\n",
       "      <td>4.99</td>\n",
       "      <td>158</td>\n",
       "      <td>R</td>\n",
       "      <td>Behind the Scenes</td>\n",
       "      <td>Documentary</td>\n",
       "    </tr>\n",
       "    <tr>\n",
       "      <th>790</th>\n",
       "      <td>Show Lord</td>\n",
       "      <td>A Fanciful Saga of a Student And a Girl who mu...</td>\n",
       "      <td>2006</td>\n",
       "      <td>4.99</td>\n",
       "      <td>167</td>\n",
       "      <td>PG-13</td>\n",
       "      <td>Deleted Scenes</td>\n",
       "      <td>Documentary</td>\n",
       "    </tr>\n",
       "    <tr>\n",
       "      <th>833</th>\n",
       "      <td>Spoilers Hellfighters</td>\n",
       "      <td>A Fanciful Story of a Technical Writer And a S...</td>\n",
       "      <td>2006</td>\n",
       "      <td>0.99</td>\n",
       "      <td>151</td>\n",
       "      <td>G</td>\n",
       "      <td>Trailers,Commentaries,Deleted Scenes,Behind th...</td>\n",
       "      <td>Documentary</td>\n",
       "    </tr>\n",
       "    <tr>\n",
       "      <th>854</th>\n",
       "      <td>Streak Ridgemont</td>\n",
       "      <td>A Astounding Character Study of a Hunter And a...</td>\n",
       "      <td>2006</td>\n",
       "      <td>0.99</td>\n",
       "      <td>132</td>\n",
       "      <td>PG-13</td>\n",
       "      <td>Trailers,Behind the Scenes</td>\n",
       "      <td>Documentary</td>\n",
       "    </tr>\n",
       "    <tr>\n",
       "      <th>924</th>\n",
       "      <td>United Pilot</td>\n",
       "      <td>A Fast-Paced Reflection of a Cat And a Mad Cow...</td>\n",
       "      <td>2006</td>\n",
       "      <td>0.99</td>\n",
       "      <td>164</td>\n",
       "      <td>R</td>\n",
       "      <td>Trailers,Deleted Scenes</td>\n",
       "      <td>Documentary</td>\n",
       "    </tr>\n",
       "    <tr>\n",
       "      <th>944</th>\n",
       "      <td>Virginian Pluto</td>\n",
       "      <td>A Emotional Panorama of a Dentist And a Crocod...</td>\n",
       "      <td>2006</td>\n",
       "      <td>0.99</td>\n",
       "      <td>164</td>\n",
       "      <td>R</td>\n",
       "      <td>Deleted Scenes</td>\n",
       "      <td>Documentary</td>\n",
       "    </tr>\n",
       "    <tr>\n",
       "      <th>951</th>\n",
       "      <td>Wagon Jaws</td>\n",
       "      <td>A Intrepid Drama of a Moose And a Boat who mus...</td>\n",
       "      <td>2006</td>\n",
       "      <td>2.99</td>\n",
       "      <td>152</td>\n",
       "      <td>PG</td>\n",
       "      <td>Deleted Scenes,Behind the Scenes</td>\n",
       "      <td>Documentary</td>\n",
       "    </tr>\n",
       "    <tr>\n",
       "      <th>959</th>\n",
       "      <td>Wars Pluto</td>\n",
       "      <td>A Taut Reflection of a Teacher And a Database ...</td>\n",
       "      <td>2006</td>\n",
       "      <td>2.99</td>\n",
       "      <td>128</td>\n",
       "      <td>G</td>\n",
       "      <td>Commentaries,Behind the Scenes</td>\n",
       "      <td>Documentary</td>\n",
       "    </tr>\n",
       "    <tr>\n",
       "      <th>972</th>\n",
       "      <td>Wife Turn</td>\n",
       "      <td>A Awe-Inspiring Epistle of a Teacher And a Fem...</td>\n",
       "      <td>2006</td>\n",
       "      <td>4.99</td>\n",
       "      <td>183</td>\n",
       "      <td>NC-17</td>\n",
       "      <td>Deleted Scenes,Behind the Scenes</td>\n",
       "      <td>Documentary</td>\n",
       "    </tr>\n",
       "    <tr>\n",
       "      <th>991</th>\n",
       "      <td>Wrath Mile</td>\n",
       "      <td>A Intrepid Reflection of a Technical Writer An...</td>\n",
       "      <td>2006</td>\n",
       "      <td>0.99</td>\n",
       "      <td>176</td>\n",
       "      <td>NC-17</td>\n",
       "      <td>Trailers,Commentaries</td>\n",
       "      <td>Documentary</td>\n",
       "    </tr>\n",
       "    <tr>\n",
       "      <th>995</th>\n",
       "      <td>Young Language</td>\n",
       "      <td>A Unbelieveable Yarn of a Boat And a Database ...</td>\n",
       "      <td>2006</td>\n",
       "      <td>0.99</td>\n",
       "      <td>183</td>\n",
       "      <td>G</td>\n",
       "      <td>Trailers,Behind the Scenes</td>\n",
       "      <td>Documentary</td>\n",
       "    </tr>\n",
       "  </tbody>\n",
       "</table>\n",
       "</div>"
      ],
      "text/plain": [
       "                     title                                        description  \\\n",
       "39        Army Flintstones  A Boring Saga of a Database Administrator And ...   \n",
       "57     Beach Heartbreakers  A Fateful Display of a Womanizer And a Mad Sci...   \n",
       "128             Cause Date  A Taut Tale of a Explorer And a Pastry Chef wh...   \n",
       "141   Chicken Hellfighters  A Emotional Drama of a Dog And a Explorer who ...   \n",
       "155          Clerks Angels  A Thrilling Display of a Sumo Wrestler And a G...   \n",
       "205          Dancing Fever  A Stunning Story of a Explorer And a Forensic ...   \n",
       "247             Dozen Lion  A Taut Drama of a Cat And a Girl who must Defe...   \n",
       "260      Duffel Apocalypse  A Emotional Display of a Boat And a Explorer w...   \n",
       "440           Hunter Alter  A Emotional Drama of a Mad Cow And a Boat who ...   \n",
       "456     Independence Hotel  A Thrilling Tale of a Technical Writer And a B...   \n",
       "543           Madison Trap  A Awe-Inspiring Reflection of a Monkey And a D...   \n",
       "551        Majestic Floats  A Thrilling Character Study of a Moose And a S...   \n",
       "570       Metal Armageddon  A Thrilling Display of a Lumberjack And a Croc...   \n",
       "575            Mighty Luck  A Astounding Epistle of a Mad Scientist And a ...   \n",
       "621          Newsies Story  A Action-Packed Character Study of a Dog And a...   \n",
       "628      Notorious Reunion  A Amazing Epistle of a Woman And a Squirrel wh...   \n",
       "649        Pacific Amistad  A Thrilling Yarn of a Dog And a Moose who must...   \n",
       "686             Pocus Pulp  A Intrepid Yarn of a Frisbee And a Dog who mus...   \n",
       "733           Road Roxanne  A Boring Character Study of a Waitress And a A...   \n",
       "790              Show Lord  A Fanciful Saga of a Student And a Girl who mu...   \n",
       "833  Spoilers Hellfighters  A Fanciful Story of a Technical Writer And a S...   \n",
       "854       Streak Ridgemont  A Astounding Character Study of a Hunter And a...   \n",
       "924           United Pilot  A Fast-Paced Reflection of a Cat And a Mad Cow...   \n",
       "944        Virginian Pluto  A Emotional Panorama of a Dentist And a Crocod...   \n",
       "951             Wagon Jaws  A Intrepid Drama of a Moose And a Boat who mus...   \n",
       "959             Wars Pluto  A Taut Reflection of a Teacher And a Database ...   \n",
       "972              Wife Turn  A Awe-Inspiring Epistle of a Teacher And a Fem...   \n",
       "991             Wrath Mile  A Intrepid Reflection of a Technical Writer An...   \n",
       "995         Young Language  A Unbelieveable Yarn of a Boat And a Database ...   \n",
       "\n",
       "     release_year  rental_rate  length rating  \\\n",
       "39           2006         0.99     148      R   \n",
       "57           2006         2.99     122      G   \n",
       "128          2006         2.99     179      R   \n",
       "141          2006         0.99     122     PG   \n",
       "155          2006         4.99     164      G   \n",
       "205          2006         0.99     144      G   \n",
       "247          2006         4.99     177  NC-17   \n",
       "260          2006         0.99     171      G   \n",
       "440          2006         2.99     125  PG-13   \n",
       "456          2006         0.99     157  NC-17   \n",
       "543          2006         2.99     147      R   \n",
       "551          2006         0.99     130     PG   \n",
       "570          2006         2.99     161  PG-13   \n",
       "575          2006         2.99     122     PG   \n",
       "621          2006         0.99     159      G   \n",
       "628          2006         0.99     128  NC-17   \n",
       "649          2006         0.99     144      G   \n",
       "686          2006         0.99     138  NC-17   \n",
       "733          2006         4.99     158      R   \n",
       "790          2006         4.99     167  PG-13   \n",
       "833          2006         0.99     151      G   \n",
       "854          2006         0.99     132  PG-13   \n",
       "924          2006         0.99     164      R   \n",
       "944          2006         0.99     164      R   \n",
       "951          2006         2.99     152     PG   \n",
       "959          2006         2.99     128      G   \n",
       "972          2006         4.99     183  NC-17   \n",
       "991          2006         0.99     176  NC-17   \n",
       "995          2006         0.99     183      G   \n",
       "\n",
       "                                      special_features     category  \n",
       "39                               Trailers,Commentaries  Documentary  \n",
       "57                    Deleted Scenes,Behind the Scenes  Documentary  \n",
       "128      Commentaries,Deleted Scenes,Behind the Scenes  Documentary  \n",
       "141  Trailers,Commentaries,Deleted Scenes,Behind th...  Documentary  \n",
       "155                                       Commentaries  Documentary  \n",
       "205                     Commentaries,Behind the Scenes  Documentary  \n",
       "247      Commentaries,Deleted Scenes,Behind the Scenes  Documentary  \n",
       "260                                       Commentaries  Documentary  \n",
       "440      Commentaries,Deleted Scenes,Behind the Scenes  Documentary  \n",
       "456                         Trailers,Behind the Scenes  Documentary  \n",
       "543      Commentaries,Deleted Scenes,Behind the Scenes  Documentary  \n",
       "551                                           Trailers  Documentary  \n",
       "570               Trailers,Commentaries,Deleted Scenes  Documentary  \n",
       "575                                  Behind the Scenes  Documentary  \n",
       "621                            Trailers,Deleted Scenes  Documentary  \n",
       "628               Trailers,Commentaries,Deleted Scenes  Documentary  \n",
       "649  Trailers,Commentaries,Deleted Scenes,Behind th...  Documentary  \n",
       "686      Commentaries,Deleted Scenes,Behind the Scenes  Documentary  \n",
       "733                                  Behind the Scenes  Documentary  \n",
       "790                                     Deleted Scenes  Documentary  \n",
       "833  Trailers,Commentaries,Deleted Scenes,Behind th...  Documentary  \n",
       "854                         Trailers,Behind the Scenes  Documentary  \n",
       "924                            Trailers,Deleted Scenes  Documentary  \n",
       "944                                     Deleted Scenes  Documentary  \n",
       "951                   Deleted Scenes,Behind the Scenes  Documentary  \n",
       "959                     Commentaries,Behind the Scenes  Documentary  \n",
       "972                   Deleted Scenes,Behind the Scenes  Documentary  \n",
       "991                              Trailers,Commentaries  Documentary  \n",
       "995                         Trailers,Behind the Scenes  Documentary  "
      ]
     },
     "execution_count": 49,
     "metadata": {},
     "output_type": "execute_result"
    }
   ],
   "source": [
    "peliculas_dormir"
   ]
  },
  {
   "cell_type": "code",
   "execution_count": 50,
   "metadata": {},
   "outputs": [
    {
     "name": "stdout",
     "output_type": "stream",
     "text": [
      "Hay un total de 29 películas para dormir\n"
     ]
    }
   ],
   "source": [
    "print('Hay un total de',peliculas_dormir['title'].count(), 'películas para dormir')"
   ]
  },
  {
   "cell_type": "markdown",
   "metadata": {},
   "source": [
    "# c)Contar cuántas películas de cada género existen"
   ]
  },
  {
   "cell_type": "code",
   "execution_count": 51,
   "metadata": {},
   "outputs": [
    {
     "data": {
      "text/plain": [
       "category\n",
       "Action         64\n",
       "Animation      66\n",
       "Children       60\n",
       "Classics       57\n",
       "Comedy         58\n",
       "Documentary    68\n",
       "Drama          61\n",
       "Family         69\n",
       "Foreign        73\n",
       "Games          61\n",
       "Horror         56\n",
       "Music          51\n",
       "New            63\n",
       "Sci-Fi         61\n",
       "Sports         73\n",
       "Travel         56\n",
       "Name: category, dtype: int64"
      ]
     },
     "execution_count": 51,
     "metadata": {},
     "output_type": "execute_result"
    }
   ],
   "source": [
    "df.groupby('category')['category'].count()"
   ]
  },
  {
   "cell_type": "markdown",
   "metadata": {},
   "source": [
    "# d)Calcular la duración promedio de las películas de cada género."
   ]
  },
  {
   "cell_type": "code",
   "execution_count": 52,
   "metadata": {},
   "outputs": [
    {
     "data": {
      "text/plain": [
       "category\n",
       "Action         111.609375\n",
       "Animation      111.015152\n",
       "Children       109.800000\n",
       "Classics       111.666667\n",
       "Comedy         115.827586\n",
       "Documentary    108.750000\n",
       "Drama          119.885246\n",
       "Family         114.782609\n",
       "Foreign        121.698630\n",
       "Games          127.836066\n",
       "Horror         112.482143\n",
       "Music          113.647059\n",
       "New            111.126984\n",
       "Sci-Fi         108.196721\n",
       "Sports         127.506849\n",
       "Travel         113.375000\n",
       "Name: length, dtype: float64"
      ]
     },
     "execution_count": 52,
     "metadata": {},
     "output_type": "execute_result"
    }
   ],
   "source": [
    "df.groupby('category')['length'].mean()"
   ]
  },
  {
   "cell_type": "markdown",
   "metadata": {},
   "source": [
    "# e)Crear una nueva columna que indique si una película es \"Corta\" (duración menor a 1.5 horas), \"Normal\" (entre 1.5 y 2.5 horas) o \"Larga\" (mayor a 2.5 horas)"
   ]
  },
  {
   "cell_type": "code",
   "execution_count": 53,
   "metadata": {},
   "outputs": [],
   "source": [
    "condiciones = [df['length']<90 ,df['length']<=150, df['length']>150]\n",
    "ValorSi = ['Corta', 'Normal', 'Larga']\n",
    "\n",
    "df['Extension'] = np.select(condiciones, ValorSi, default='Invalido')"
   ]
  },
  {
   "cell_type": "code",
   "execution_count": 54,
   "metadata": {},
   "outputs": [
    {
     "data": {
      "text/html": [
       "<div>\n",
       "<style scoped>\n",
       "    .dataframe tbody tr th:only-of-type {\n",
       "        vertical-align: middle;\n",
       "    }\n",
       "\n",
       "    .dataframe tbody tr th {\n",
       "        vertical-align: top;\n",
       "    }\n",
       "\n",
       "    .dataframe thead th {\n",
       "        text-align: right;\n",
       "    }\n",
       "</style>\n",
       "<table border=\"1\" class=\"dataframe\">\n",
       "  <thead>\n",
       "    <tr style=\"text-align: right;\">\n",
       "      <th></th>\n",
       "      <th>title</th>\n",
       "      <th>description</th>\n",
       "      <th>release_year</th>\n",
       "      <th>rental_rate</th>\n",
       "      <th>length</th>\n",
       "      <th>rating</th>\n",
       "      <th>special_features</th>\n",
       "      <th>category</th>\n",
       "    </tr>\n",
       "    <tr>\n",
       "      <th>Extension</th>\n",
       "      <th></th>\n",
       "      <th></th>\n",
       "      <th></th>\n",
       "      <th></th>\n",
       "      <th></th>\n",
       "      <th></th>\n",
       "      <th></th>\n",
       "      <th></th>\n",
       "    </tr>\n",
       "  </thead>\n",
       "  <tbody>\n",
       "    <tr>\n",
       "      <th>Corta</th>\n",
       "      <td>320</td>\n",
       "      <td>320</td>\n",
       "      <td>320</td>\n",
       "      <td>320</td>\n",
       "      <td>320</td>\n",
       "      <td>320</td>\n",
       "      <td>320</td>\n",
       "      <td>320</td>\n",
       "    </tr>\n",
       "    <tr>\n",
       "      <th>Larga</th>\n",
       "      <td>242</td>\n",
       "      <td>242</td>\n",
       "      <td>242</td>\n",
       "      <td>242</td>\n",
       "      <td>242</td>\n",
       "      <td>242</td>\n",
       "      <td>242</td>\n",
       "      <td>240</td>\n",
       "    </tr>\n",
       "    <tr>\n",
       "      <th>Normal</th>\n",
       "      <td>438</td>\n",
       "      <td>438</td>\n",
       "      <td>438</td>\n",
       "      <td>438</td>\n",
       "      <td>438</td>\n",
       "      <td>438</td>\n",
       "      <td>438</td>\n",
       "      <td>437</td>\n",
       "    </tr>\n",
       "  </tbody>\n",
       "</table>\n",
       "</div>"
      ],
      "text/plain": [
       "           title  description  release_year  rental_rate  length  rating  \\\n",
       "Extension                                                                  \n",
       "Corta        320          320           320          320     320     320   \n",
       "Larga        242          242           242          242     242     242   \n",
       "Normal       438          438           438          438     438     438   \n",
       "\n",
       "           special_features  category  \n",
       "Extension                              \n",
       "Corta                   320       320  \n",
       "Larga                   242       240  \n",
       "Normal                  438       437  "
      ]
     },
     "execution_count": 54,
     "metadata": {},
     "output_type": "execute_result"
    }
   ],
   "source": [
    "df.groupby('Extension').count()"
   ]
  },
  {
   "cell_type": "markdown",
   "metadata": {},
   "source": [
    "# 2.-Sabemos que en el caso de México, esta formado por estados, y cada estado esta formado por municipios. La base de datos población_Asgard raw.githubusercontent.com/jimmyzac/Estadistica-Aplicada-FCFM-UANL/main/bases_datos/poblacion_Asgard.csvcontiene   los   datos   de   un   país   llamado Asgard, formado por estados y estos a su vez por municipios. Para cada municipio se reporta su población."
   ]
  },
  {
   "cell_type": "code",
   "execution_count": 55,
   "metadata": {},
   "outputs": [],
   "source": [
    "poblacionAsgard = pd.read_csv('https://raw.githubusercontent.com/jimmyzac/Estadistica-Aplicada-FCFM-UANL/main/bases_datos/poblacion_Asgard.csv')"
   ]
  },
  {
   "cell_type": "code",
   "execution_count": 56,
   "metadata": {},
   "outputs": [
    {
     "data": {
      "text/html": [
       "<div>\n",
       "<style scoped>\n",
       "    .dataframe tbody tr th:only-of-type {\n",
       "        vertical-align: middle;\n",
       "    }\n",
       "\n",
       "    .dataframe tbody tr th {\n",
       "        vertical-align: top;\n",
       "    }\n",
       "\n",
       "    .dataframe thead th {\n",
       "        text-align: right;\n",
       "    }\n",
       "</style>\n",
       "<table border=\"1\" class=\"dataframe\">\n",
       "  <thead>\n",
       "    <tr style=\"text-align: right;\">\n",
       "      <th></th>\n",
       "      <th>País</th>\n",
       "      <th>Estado</th>\n",
       "      <th>Municipio</th>\n",
       "      <th>Población</th>\n",
       "    </tr>\n",
       "  </thead>\n",
       "  <tbody>\n",
       "    <tr>\n",
       "      <th>0</th>\n",
       "      <td>Asgard</td>\n",
       "      <td>Pandora</td>\n",
       "      <td>Reino Tierra</td>\n",
       "      <td>377896</td>\n",
       "    </tr>\n",
       "    <tr>\n",
       "      <th>1</th>\n",
       "      <td>Asgard</td>\n",
       "      <td>Alderaan</td>\n",
       "      <td>Fuente Dorada</td>\n",
       "      <td>49984</td>\n",
       "    </tr>\n",
       "    <tr>\n",
       "      <th>2</th>\n",
       "      <td>Asgard</td>\n",
       "      <td>Genosha</td>\n",
       "      <td>El Carmen</td>\n",
       "      <td>303918</td>\n",
       "    </tr>\n",
       "    <tr>\n",
       "      <th>3</th>\n",
       "      <td>Asgard</td>\n",
       "      <td>Naboo</td>\n",
       "      <td>Omashu</td>\n",
       "      <td>265712</td>\n",
       "    </tr>\n",
       "    <tr>\n",
       "      <th>4</th>\n",
       "      <td>Asgard</td>\n",
       "      <td>Mordor</td>\n",
       "      <td>Don Bosco</td>\n",
       "      <td>121151</td>\n",
       "    </tr>\n",
       "  </tbody>\n",
       "</table>\n",
       "</div>"
      ],
      "text/plain": [
       "     País    Estado      Municipio  Población\n",
       "0  Asgard   Pandora   Reino Tierra     377896\n",
       "1  Asgard  Alderaan  Fuente Dorada      49984\n",
       "2  Asgard   Genosha      El Carmen     303918\n",
       "3  Asgard     Naboo         Omashu     265712\n",
       "4  Asgard    Mordor      Don Bosco     121151"
      ]
     },
     "execution_count": 56,
     "metadata": {},
     "output_type": "execute_result"
    }
   ],
   "source": [
    "poblacionAsgard.head()"
   ]
  },
  {
   "cell_type": "markdown",
   "metadata": {},
   "source": [
    "# a)Ordena la base alfabéticamente por estado y por municipio"
   ]
  },
  {
   "cell_type": "code",
   "execution_count": 57,
   "metadata": {},
   "outputs": [
    {
     "data": {
      "text/html": [
       "<div>\n",
       "<style scoped>\n",
       "    .dataframe tbody tr th:only-of-type {\n",
       "        vertical-align: middle;\n",
       "    }\n",
       "\n",
       "    .dataframe tbody tr th {\n",
       "        vertical-align: top;\n",
       "    }\n",
       "\n",
       "    .dataframe thead th {\n",
       "        text-align: right;\n",
       "    }\n",
       "</style>\n",
       "<table border=\"1\" class=\"dataframe\">\n",
       "  <thead>\n",
       "    <tr style=\"text-align: right;\">\n",
       "      <th></th>\n",
       "      <th>País</th>\n",
       "      <th>Estado</th>\n",
       "      <th>Municipio</th>\n",
       "      <th>Población</th>\n",
       "    </tr>\n",
       "  </thead>\n",
       "  <tbody>\n",
       "    <tr>\n",
       "      <th>16</th>\n",
       "      <td>Asgard</td>\n",
       "      <td>Alderaan</td>\n",
       "      <td>Ciudad Jedi</td>\n",
       "      <td>130312</td>\n",
       "    </tr>\n",
       "    <tr>\n",
       "      <th>1</th>\n",
       "      <td>Asgard</td>\n",
       "      <td>Alderaan</td>\n",
       "      <td>Fuente Dorada</td>\n",
       "      <td>49984</td>\n",
       "    </tr>\n",
       "    <tr>\n",
       "      <th>31</th>\n",
       "      <td>Asgard</td>\n",
       "      <td>Alderaan</td>\n",
       "      <td>Luz azul</td>\n",
       "      <td>914910</td>\n",
       "    </tr>\n",
       "    <tr>\n",
       "      <th>76</th>\n",
       "      <td>Asgard</td>\n",
       "      <td>Alderaan</td>\n",
       "      <td>Madero</td>\n",
       "      <td>774290</td>\n",
       "    </tr>\n",
       "    <tr>\n",
       "      <th>46</th>\n",
       "      <td>Asgard</td>\n",
       "      <td>Alderaan</td>\n",
       "      <td>San Isidro</td>\n",
       "      <td>159338</td>\n",
       "    </tr>\n",
       "    <tr>\n",
       "      <th>61</th>\n",
       "      <td>Asgard</td>\n",
       "      <td>Alderaan</td>\n",
       "      <td>The Upside Down</td>\n",
       "      <td>254618</td>\n",
       "    </tr>\n",
       "    <tr>\n",
       "      <th>13</th>\n",
       "      <td>Asgard</td>\n",
       "      <td>Atlantis</td>\n",
       "      <td>Luz verde</td>\n",
       "      <td>689519</td>\n",
       "    </tr>\n",
       "    <tr>\n",
       "      <th>73</th>\n",
       "      <td>Asgard</td>\n",
       "      <td>Atlantis</td>\n",
       "      <td>Madero</td>\n",
       "      <td>728270</td>\n",
       "    </tr>\n",
       "    <tr>\n",
       "      <th>88</th>\n",
       "      <td>Asgard</td>\n",
       "      <td>Atlantis</td>\n",
       "      <td>Mar amarillo</td>\n",
       "      <td>961061</td>\n",
       "    </tr>\n",
       "    <tr>\n",
       "      <th>58</th>\n",
       "      <td>Asgard</td>\n",
       "      <td>Atlantis</td>\n",
       "      <td>Playa Rosa</td>\n",
       "      <td>123409</td>\n",
       "    </tr>\n",
       "  </tbody>\n",
       "</table>\n",
       "</div>"
      ],
      "text/plain": [
       "      País    Estado        Municipio  Población\n",
       "16  Asgard  Alderaan      Ciudad Jedi     130312\n",
       "1   Asgard  Alderaan    Fuente Dorada      49984\n",
       "31  Asgard  Alderaan         Luz azul     914910\n",
       "76  Asgard  Alderaan           Madero     774290\n",
       "46  Asgard  Alderaan       San Isidro     159338\n",
       "61  Asgard  Alderaan  The Upside Down     254618\n",
       "13  Asgard  Atlantis        Luz verde     689519\n",
       "73  Asgard  Atlantis           Madero     728270\n",
       "88  Asgard  Atlantis     Mar amarillo     961061\n",
       "58  Asgard  Atlantis       Playa Rosa     123409"
      ]
     },
     "execution_count": 57,
     "metadata": {},
     "output_type": "execute_result"
    }
   ],
   "source": [
    "poblacionAsgard = poblacionAsgard.sort_values(['Estado', 'Municipio'], ascending=True)\n",
    "\n",
    "poblacionAsgard.head(10)"
   ]
  },
  {
   "cell_type": "markdown",
   "metadata": {},
   "source": [
    "# b)Cuantos  estados  hay,  cuantos  municipios  hay  en  cada  estado  y  cuantos municipios hay en total."
   ]
  },
  {
   "cell_type": "code",
   "execution_count": 58,
   "metadata": {},
   "outputs": [
    {
     "name": "stdout",
     "output_type": "stream",
     "text": [
      "Hay un total de 15 Estados en Asgard y un total de 90 municipios en Asgard\n"
     ]
    }
   ],
   "source": [
    "\n",
    "print('Hay un total de', poblacionAsgard.groupby('Estado')['Estado'].count().count(), 'Estados en Asgard y un total de', poblacionAsgard['Municipio'].count(), 'municipios en Asgard')\n"
   ]
  },
  {
   "cell_type": "code",
   "execution_count": 59,
   "metadata": {},
   "outputs": [
    {
     "data": {
      "text/plain": [
       "Estado\n",
       "Alderaan     6\n",
       "Atlantis     6\n",
       "Endor        6\n",
       "Genosha      6\n",
       "Gotham       6\n",
       "Mandalore    6\n",
       "Mordor       6\n",
       "Mustafar     6\n",
       "Naboo        6\n",
       "Narnia       6\n",
       "Pandora      6\n",
       "Sokovia      6\n",
       "Tatooine     6\n",
       "Wakanda      6\n",
       "Yaven        6\n",
       "Name: count, dtype: int64"
      ]
     },
     "execution_count": 59,
     "metadata": {},
     "output_type": "execute_result"
    }
   ],
   "source": [
    "# Número de municipios por estado\n",
    "poblacionAsgard.value_counts('Estado')"
   ]
  },
  {
   "cell_type": "markdown",
   "metadata": {},
   "source": [
    "# c)Cuanta población tiene el país en total y cuanta población tiene cada estado"
   ]
  },
  {
   "cell_type": "code",
   "execution_count": 60,
   "metadata": {},
   "outputs": [
    {
     "name": "stdout",
     "output_type": "stream",
     "text": [
      "Hay un total de 43114719 habitantes en el país\n"
     ]
    }
   ],
   "source": [
    "print('Hay un total de', poblacionAsgard['Población'].sum(), 'habitantes en el país')"
   ]
  },
  {
   "cell_type": "code",
   "execution_count": 61,
   "metadata": {},
   "outputs": [
    {
     "data": {
      "text/plain": [
       "Estado\n",
       "Alderaan     2283452\n",
       "Atlantis     3779656\n",
       "Endor        2427956\n",
       "Genosha      2871584\n",
       "Gotham       3204304\n",
       "Mandalore    2044164\n",
       "Mordor       3627119\n",
       "Mustafar     2183880\n",
       "Naboo        1602111\n",
       "Narnia       2961407\n",
       "Pandora      2959272\n",
       "Sokovia      4722224\n",
       "Tatooine     2770055\n",
       "Wakanda      2905562\n",
       "Yaven        2771973\n",
       "Name: Población, dtype: int64"
      ]
     },
     "execution_count": 61,
     "metadata": {},
     "output_type": "execute_result"
    }
   ],
   "source": [
    "#Población por estado\n",
    "poblacionAsgard.groupby('Estado')['Población'].sum()"
   ]
  },
  {
   "cell_type": "markdown",
   "metadata": {},
   "source": [
    "# d) Calcula la mediana de la población de los municipios, y clasifícalos, aquellos por  arriba de la mediana deben llamarse “muy poblados” y aquellos debajo de la  mediana “poco poblados”"
   ]
  },
  {
   "cell_type": "code",
   "execution_count": 62,
   "metadata": {},
   "outputs": [],
   "source": [
    "poblacionAsgard['DensidadPoblacional'] = np.where(poblacionAsgard['Población']<poblacionAsgard['Población'].mean(), 'Poco poblados', 'Muy poblados')"
   ]
  },
  {
   "cell_type": "code",
   "execution_count": 63,
   "metadata": {},
   "outputs": [
    {
     "data": {
      "text/html": [
       "<div>\n",
       "<style scoped>\n",
       "    .dataframe tbody tr th:only-of-type {\n",
       "        vertical-align: middle;\n",
       "    }\n",
       "\n",
       "    .dataframe tbody tr th {\n",
       "        vertical-align: top;\n",
       "    }\n",
       "\n",
       "    .dataframe thead th {\n",
       "        text-align: right;\n",
       "    }\n",
       "</style>\n",
       "<table border=\"1\" class=\"dataframe\">\n",
       "  <thead>\n",
       "    <tr style=\"text-align: right;\">\n",
       "      <th></th>\n",
       "      <th>País</th>\n",
       "      <th>Estado</th>\n",
       "      <th>Municipio</th>\n",
       "      <th>Población</th>\n",
       "      <th>DensidadPoblacional</th>\n",
       "    </tr>\n",
       "  </thead>\n",
       "  <tbody>\n",
       "    <tr>\n",
       "      <th>16</th>\n",
       "      <td>Asgard</td>\n",
       "      <td>Alderaan</td>\n",
       "      <td>Ciudad Jedi</td>\n",
       "      <td>130312</td>\n",
       "      <td>Poco poblados</td>\n",
       "    </tr>\n",
       "    <tr>\n",
       "      <th>1</th>\n",
       "      <td>Asgard</td>\n",
       "      <td>Alderaan</td>\n",
       "      <td>Fuente Dorada</td>\n",
       "      <td>49984</td>\n",
       "      <td>Poco poblados</td>\n",
       "    </tr>\n",
       "    <tr>\n",
       "      <th>31</th>\n",
       "      <td>Asgard</td>\n",
       "      <td>Alderaan</td>\n",
       "      <td>Luz azul</td>\n",
       "      <td>914910</td>\n",
       "      <td>Muy poblados</td>\n",
       "    </tr>\n",
       "    <tr>\n",
       "      <th>76</th>\n",
       "      <td>Asgard</td>\n",
       "      <td>Alderaan</td>\n",
       "      <td>Madero</td>\n",
       "      <td>774290</td>\n",
       "      <td>Muy poblados</td>\n",
       "    </tr>\n",
       "    <tr>\n",
       "      <th>46</th>\n",
       "      <td>Asgard</td>\n",
       "      <td>Alderaan</td>\n",
       "      <td>San Isidro</td>\n",
       "      <td>159338</td>\n",
       "      <td>Poco poblados</td>\n",
       "    </tr>\n",
       "    <tr>\n",
       "      <th>...</th>\n",
       "      <td>...</td>\n",
       "      <td>...</td>\n",
       "      <td>...</td>\n",
       "      <td>...</td>\n",
       "      <td>...</td>\n",
       "    </tr>\n",
       "    <tr>\n",
       "      <th>8</th>\n",
       "      <td>Asgard</td>\n",
       "      <td>Yaven</td>\n",
       "      <td>El Bosque</td>\n",
       "      <td>649663</td>\n",
       "      <td>Muy poblados</td>\n",
       "    </tr>\n",
       "    <tr>\n",
       "      <th>83</th>\n",
       "      <td>Asgard</td>\n",
       "      <td>Yaven</td>\n",
       "      <td>Green Flag</td>\n",
       "      <td>380989</td>\n",
       "      <td>Poco poblados</td>\n",
       "    </tr>\n",
       "    <tr>\n",
       "      <th>68</th>\n",
       "      <td>Asgard</td>\n",
       "      <td>Yaven</td>\n",
       "      <td>Santa María</td>\n",
       "      <td>111687</td>\n",
       "      <td>Poco poblados</td>\n",
       "    </tr>\n",
       "    <tr>\n",
       "      <th>53</th>\n",
       "      <td>Asgard</td>\n",
       "      <td>Yaven</td>\n",
       "      <td>Villa Wendy</td>\n",
       "      <td>646914</td>\n",
       "      <td>Muy poblados</td>\n",
       "    </tr>\n",
       "    <tr>\n",
       "      <th>38</th>\n",
       "      <td>Asgard</td>\n",
       "      <td>Yaven</td>\n",
       "      <td>Villa amarilla</td>\n",
       "      <td>274109</td>\n",
       "      <td>Poco poblados</td>\n",
       "    </tr>\n",
       "  </tbody>\n",
       "</table>\n",
       "<p>90 rows × 5 columns</p>\n",
       "</div>"
      ],
      "text/plain": [
       "      País    Estado       Municipio  Población DensidadPoblacional\n",
       "16  Asgard  Alderaan     Ciudad Jedi     130312       Poco poblados\n",
       "1   Asgard  Alderaan   Fuente Dorada      49984       Poco poblados\n",
       "31  Asgard  Alderaan        Luz azul     914910        Muy poblados\n",
       "76  Asgard  Alderaan          Madero     774290        Muy poblados\n",
       "46  Asgard  Alderaan      San Isidro     159338       Poco poblados\n",
       "..     ...       ...             ...        ...                 ...\n",
       "8   Asgard     Yaven       El Bosque     649663        Muy poblados\n",
       "83  Asgard     Yaven      Green Flag     380989       Poco poblados\n",
       "68  Asgard     Yaven     Santa María     111687       Poco poblados\n",
       "53  Asgard     Yaven     Villa Wendy     646914        Muy poblados\n",
       "38  Asgard     Yaven  Villa amarilla     274109       Poco poblados\n",
       "\n",
       "[90 rows x 5 columns]"
      ]
     },
     "execution_count": 63,
     "metadata": {},
     "output_type": "execute_result"
    }
   ],
   "source": [
    "poblacionAsgard"
   ]
  },
  {
   "cell_type": "code",
   "execution_count": 64,
   "metadata": {},
   "outputs": [
    {
     "data": {
      "text/plain": [
       "DensidadPoblacional\n",
       "Poco poblados    48\n",
       "Muy poblados     42\n",
       "Name: count, dtype: int64"
      ]
     },
     "execution_count": 64,
     "metadata": {},
     "output_type": "execute_result"
    }
   ],
   "source": [
    "poblacionAsgard.value_counts('DensidadPoblacional')"
   ]
  },
  {
   "cell_type": "markdown",
   "metadata": {},
   "source": [
    "# e)Encuentra  los  5  municipios  mas  poblados  y  los  cinco  municipios  menos poblados del país"
   ]
  },
  {
   "cell_type": "code",
   "execution_count": 65,
   "metadata": {},
   "outputs": [],
   "source": [
    "PobAsend = poblacionAsgard.sort_values('Población', ascending=True)\n"
   ]
  },
  {
   "cell_type": "code",
   "execution_count": 66,
   "metadata": {},
   "outputs": [
    {
     "data": {
      "text/plain": [
       "17    Ciudad Jedi\n",
       "14       Luz roja\n",
       "39     Villa rosa\n",
       "26    Shelbyville\n",
       "85    Mar violeta\n",
       "Name: Municipio, dtype: object"
      ]
     },
     "execution_count": 66,
     "metadata": {},
     "output_type": "execute_result"
    }
   ],
   "source": [
    "#5 municipios menos poblados\n",
    "PobAsend['Municipio'].head()"
   ]
  },
  {
   "cell_type": "code",
   "execution_count": 67,
   "metadata": {},
   "outputs": [
    {
     "data": {
      "text/plain": [
       "79      Yellow town\n",
       "74    Gral Escobedo\n",
       "6          La Unión\n",
       "27      Villa Norte\n",
       "34         Madripur\n",
       "Name: Municipio, dtype: object"
      ]
     },
     "execution_count": 67,
     "metadata": {},
     "output_type": "execute_result"
    }
   ],
   "source": [
    "#5 municipios mas poblados\n",
    "PobAsend['Municipio'].tail()"
   ]
  },
  {
   "cell_type": "markdown",
   "metadata": {},
   "source": [
    "# f)El municipio más poblado de cada estado"
   ]
  },
  {
   "cell_type": "code",
   "execution_count": 68,
   "metadata": {},
   "outputs": [],
   "source": [
    "poblacionesMax = poblacionAsgard.groupby('Estado')['Población'].idxmax()"
   ]
  },
  {
   "cell_type": "code",
   "execution_count": 69,
   "metadata": {},
   "outputs": [
    {
     "data": {
      "text/html": [
       "<div>\n",
       "<style scoped>\n",
       "    .dataframe tbody tr th:only-of-type {\n",
       "        vertical-align: middle;\n",
       "    }\n",
       "\n",
       "    .dataframe tbody tr th {\n",
       "        vertical-align: top;\n",
       "    }\n",
       "\n",
       "    .dataframe thead th {\n",
       "        text-align: right;\n",
       "    }\n",
       "</style>\n",
       "<table border=\"1\" class=\"dataframe\">\n",
       "  <thead>\n",
       "    <tr style=\"text-align: right;\">\n",
       "      <th></th>\n",
       "      <th>País</th>\n",
       "      <th>Estado</th>\n",
       "      <th>Municipio</th>\n",
       "      <th>Población</th>\n",
       "      <th>DensidadPoblacional</th>\n",
       "    </tr>\n",
       "  </thead>\n",
       "  <tbody>\n",
       "    <tr>\n",
       "      <th>31</th>\n",
       "      <td>Asgard</td>\n",
       "      <td>Alderaan</td>\n",
       "      <td>Luz azul</td>\n",
       "      <td>914910</td>\n",
       "      <td>Muy poblados</td>\n",
       "    </tr>\n",
       "    <tr>\n",
       "      <th>88</th>\n",
       "      <td>Asgard</td>\n",
       "      <td>Atlantis</td>\n",
       "      <td>Mar amarillo</td>\n",
       "      <td>961061</td>\n",
       "      <td>Muy poblados</td>\n",
       "    </tr>\n",
       "    <tr>\n",
       "      <th>69</th>\n",
       "      <td>Asgard</td>\n",
       "      <td>Endor</td>\n",
       "      <td>Santa María</td>\n",
       "      <td>875371</td>\n",
       "      <td>Muy poblados</td>\n",
       "    </tr>\n",
       "    <tr>\n",
       "      <th>32</th>\n",
       "      <td>Asgard</td>\n",
       "      <td>Genosha</td>\n",
       "      <td>Villa Lannister</td>\n",
       "      <td>822654</td>\n",
       "      <td>Muy poblados</td>\n",
       "    </tr>\n",
       "    <tr>\n",
       "      <th>55</th>\n",
       "      <td>Asgard</td>\n",
       "      <td>Gotham</td>\n",
       "      <td>Playa Verde</td>\n",
       "      <td>918710</td>\n",
       "      <td>Muy poblados</td>\n",
       "    </tr>\n",
       "    <tr>\n",
       "      <th>71</th>\n",
       "      <td>Asgard</td>\n",
       "      <td>Mandalore</td>\n",
       "      <td>San Pedro</td>\n",
       "      <td>736716</td>\n",
       "      <td>Muy poblados</td>\n",
       "    </tr>\n",
       "    <tr>\n",
       "      <th>34</th>\n",
       "      <td>Asgard</td>\n",
       "      <td>Mordor</td>\n",
       "      <td>Madripur</td>\n",
       "      <td>998079</td>\n",
       "      <td>Muy poblados</td>\n",
       "    </tr>\n",
       "    <tr>\n",
       "      <th>27</th>\n",
       "      <td>Asgard</td>\n",
       "      <td>Mustafar</td>\n",
       "      <td>Villa Norte</td>\n",
       "      <td>997107</td>\n",
       "      <td>Muy poblados</td>\n",
       "    </tr>\n",
       "    <tr>\n",
       "      <th>33</th>\n",
       "      <td>Asgard</td>\n",
       "      <td>Naboo</td>\n",
       "      <td>Luz azul</td>\n",
       "      <td>602661</td>\n",
       "      <td>Muy poblados</td>\n",
       "    </tr>\n",
       "    <tr>\n",
       "      <th>74</th>\n",
       "      <td>Asgard</td>\n",
       "      <td>Narnia</td>\n",
       "      <td>Gral Escobedo</td>\n",
       "      <td>974548</td>\n",
       "      <td>Muy poblados</td>\n",
       "    </tr>\n",
       "    <tr>\n",
       "      <th>60</th>\n",
       "      <td>Asgard</td>\n",
       "      <td>Pandora</td>\n",
       "      <td>Villa Demogorgon</td>\n",
       "      <td>969140</td>\n",
       "      <td>Muy poblados</td>\n",
       "    </tr>\n",
       "    <tr>\n",
       "      <th>6</th>\n",
       "      <td>Asgard</td>\n",
       "      <td>Sokovia</td>\n",
       "      <td>La Unión</td>\n",
       "      <td>986067</td>\n",
       "      <td>Muy poblados</td>\n",
       "    </tr>\n",
       "    <tr>\n",
       "      <th>50</th>\n",
       "      <td>Asgard</td>\n",
       "      <td>Tatooine</td>\n",
       "      <td>Villa Marlon</td>\n",
       "      <td>925414</td>\n",
       "      <td>Muy poblados</td>\n",
       "    </tr>\n",
       "    <tr>\n",
       "      <th>82</th>\n",
       "      <td>Asgard</td>\n",
       "      <td>Wakanda</td>\n",
       "      <td>Redgreen</td>\n",
       "      <td>880858</td>\n",
       "      <td>Muy poblados</td>\n",
       "    </tr>\n",
       "    <tr>\n",
       "      <th>23</th>\n",
       "      <td>Asgard</td>\n",
       "      <td>Yaven</td>\n",
       "      <td>Amanecer</td>\n",
       "      <td>708611</td>\n",
       "      <td>Muy poblados</td>\n",
       "    </tr>\n",
       "  </tbody>\n",
       "</table>\n",
       "</div>"
      ],
      "text/plain": [
       "      País     Estado         Municipio  Población DensidadPoblacional\n",
       "31  Asgard   Alderaan          Luz azul     914910        Muy poblados\n",
       "88  Asgard   Atlantis      Mar amarillo     961061        Muy poblados\n",
       "69  Asgard      Endor       Santa María     875371        Muy poblados\n",
       "32  Asgard    Genosha   Villa Lannister     822654        Muy poblados\n",
       "55  Asgard     Gotham       Playa Verde     918710        Muy poblados\n",
       "71  Asgard  Mandalore         San Pedro     736716        Muy poblados\n",
       "34  Asgard     Mordor          Madripur     998079        Muy poblados\n",
       "27  Asgard   Mustafar       Villa Norte     997107        Muy poblados\n",
       "33  Asgard      Naboo          Luz azul     602661        Muy poblados\n",
       "74  Asgard     Narnia     Gral Escobedo     974548        Muy poblados\n",
       "60  Asgard    Pandora  Villa Demogorgon     969140        Muy poblados\n",
       "6   Asgard    Sokovia          La Unión     986067        Muy poblados\n",
       "50  Asgard   Tatooine      Villa Marlon     925414        Muy poblados\n",
       "82  Asgard    Wakanda          Redgreen     880858        Muy poblados\n",
       "23  Asgard      Yaven          Amanecer     708611        Muy poblados"
      ]
     },
     "execution_count": 69,
     "metadata": {},
     "output_type": "execute_result"
    }
   ],
   "source": [
    "poblacionAsgard.loc[poblacionesMax]"
   ]
  },
  {
   "cell_type": "markdown",
   "metadata": {},
   "source": [
    "# 3.- Genera un grafico de barras de:"
   ]
  },
  {
   "cell_type": "markdown",
   "metadata": {},
   "source": [
    "# a)Los 15 municipios más poblados de Asgard"
   ]
  },
  {
   "cell_type": "code",
   "execution_count": 71,
   "metadata": {},
   "outputs": [
    {
     "data": {
      "text/html": [
       "<div>\n",
       "<style scoped>\n",
       "    .dataframe tbody tr th:only-of-type {\n",
       "        vertical-align: middle;\n",
       "    }\n",
       "\n",
       "    .dataframe tbody tr th {\n",
       "        vertical-align: top;\n",
       "    }\n",
       "\n",
       "    .dataframe thead th {\n",
       "        text-align: right;\n",
       "    }\n",
       "</style>\n",
       "<table border=\"1\" class=\"dataframe\">\n",
       "  <thead>\n",
       "    <tr style=\"text-align: right;\">\n",
       "      <th></th>\n",
       "      <th>Población</th>\n",
       "    </tr>\n",
       "    <tr>\n",
       "      <th>Municipio</th>\n",
       "      <th></th>\n",
       "    </tr>\n",
       "  </thead>\n",
       "  <tbody>\n",
       "    <tr>\n",
       "      <th>Madripur</th>\n",
       "      <td>998079</td>\n",
       "    </tr>\n",
       "    <tr>\n",
       "      <th>Villa Norte</th>\n",
       "      <td>997107</td>\n",
       "    </tr>\n",
       "    <tr>\n",
       "      <th>La Unión</th>\n",
       "      <td>986067</td>\n",
       "    </tr>\n",
       "    <tr>\n",
       "      <th>Gral Escobedo</th>\n",
       "      <td>974548</td>\n",
       "    </tr>\n",
       "    <tr>\n",
       "      <th>Yellow town</th>\n",
       "      <td>974324</td>\n",
       "    </tr>\n",
       "    <tr>\n",
       "      <th>Villa Demogorgon</th>\n",
       "      <td>969140</td>\n",
       "    </tr>\n",
       "    <tr>\n",
       "      <th>Mar amarillo</th>\n",
       "      <td>961061</td>\n",
       "    </tr>\n",
       "    <tr>\n",
       "      <th>Villa Marlon</th>\n",
       "      <td>925414</td>\n",
       "    </tr>\n",
       "    <tr>\n",
       "      <th>Playa Verde</th>\n",
       "      <td>918710</td>\n",
       "    </tr>\n",
       "    <tr>\n",
       "      <th>Luz azul</th>\n",
       "      <td>914910</td>\n",
       "    </tr>\n",
       "    <tr>\n",
       "      <th>San Pedro</th>\n",
       "      <td>900684</td>\n",
       "    </tr>\n",
       "    <tr>\n",
       "      <th>Villa Paola</th>\n",
       "      <td>898421</td>\n",
       "    </tr>\n",
       "    <tr>\n",
       "      <th>Villa Roja</th>\n",
       "      <td>895498</td>\n",
       "    </tr>\n",
       "    <tr>\n",
       "      <th>Redgreen</th>\n",
       "      <td>880858</td>\n",
       "    </tr>\n",
       "    <tr>\n",
       "      <th>Santa María</th>\n",
       "      <td>875371</td>\n",
       "    </tr>\n",
       "  </tbody>\n",
       "</table>\n",
       "</div>"
      ],
      "text/plain": [
       "                  Población\n",
       "Municipio                  \n",
       "Madripur             998079\n",
       "Villa Norte          997107\n",
       "La Unión             986067\n",
       "Gral Escobedo        974548\n",
       "Yellow town          974324\n",
       "Villa Demogorgon     969140\n",
       "Mar amarillo         961061\n",
       "Villa Marlon         925414\n",
       "Playa Verde          918710\n",
       "Luz azul             914910\n",
       "San Pedro            900684\n",
       "Villa Paola          898421\n",
       "Villa Roja           895498\n",
       "Redgreen             880858\n",
       "Santa María          875371"
      ]
     },
     "execution_count": 71,
     "metadata": {},
     "output_type": "execute_result"
    }
   ],
   "source": [
    "barras = poblacionAsgard[['Municipio','Población']].sort_values('Población',ascending=False).head(15)\n",
    "\n",
    "barras.set_index('Municipio')"
   ]
  },
  {
   "cell_type": "code",
   "execution_count": 72,
   "metadata": {},
   "outputs": [
    {
     "data": {
      "text/plain": [
       "Text(0, 0.5, '# de habitantes en millones')"
      ]
     },
     "execution_count": 72,
     "metadata": {},
     "output_type": "execute_result"
    },
    {
     "data": {
      "image/png": "[encoded data removed]",
      "text/plain": [
       "<Figure size 640x480 with 1 Axes>"
      ]
     },
     "metadata": {},
     "output_type": "display_data"
    }
   ],
   "source": [
    "barras.plot.bar('Municipio')\n",
    "plt.title('15 municipios más poblados de Asgard')\n",
    "plt.xlabel('Municipios')\n",
    "plt.ylabel('# de habitantes en millones')"
   ]
  },
  {
   "cell_type": "markdown",
   "metadata": {},
   "source": [
    "# b) Cuantas peliculas hay de cada género"
   ]
  },
  {
   "cell_type": "code",
   "execution_count": 73,
   "metadata": {},
   "outputs": [
    {
     "data": {
      "text/plain": [
       "Text(0, 0.5, '# de películas')"
      ]
     },
     "execution_count": 73,
     "metadata": {},
     "output_type": "execute_result"
    },
    {
     "data": {
      "image/png": "[encoded data removed]",
      "text/plain": [
       "<Figure size 640x480 with 1 Axes>"
      ]
     },
     "metadata": {},
     "output_type": "display_data"
    }
   ],
   "source": [
    "PelisXcategoria = df.groupby('category')['category'].count()\n",
    "\n",
    "PelisXcategoria.plot.bar()\n",
    "plt.title('Películas por género')\n",
    "plt.xlabel('Género')\n",
    "plt.ylabel('# de películas')\n"
   ]
  }
 ],
 "metadata": {
  "kernelspec": {
   "display_name": "base",
   "language": "python",
   "name": "python3"
  },
  "language_info": {
   "codemirror_mode": {
    "name": "ipython",
    "version": 3
   },
   "file_extension": ".py",
   "mimetype": "text/x-python",
   "name": "python",
   "nbconvert_exporter": "python",
   "pygments_lexer": "ipython3",
   "version": "3.11.4"
  },
  "orig_nbformat": 4
 },
 "nbformat": 4,
 "nbformat_minor": 2
}
